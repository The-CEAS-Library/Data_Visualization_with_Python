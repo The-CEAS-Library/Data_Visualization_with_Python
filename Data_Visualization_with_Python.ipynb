{
  "cells": [
    {
      "cell_type": "markdown",
      "source": [
        "### **Please use the following sign-in form to fill your details**\n",
        "**[Sign-in Form](https://forms.office.com/r/K8m4siMZ56)**"
      ],
      "metadata": {
        "id": "uws58zb_vS7m"
      }
    },
    {
      "cell_type": "markdown",
      "metadata": {
        "id": "hCIxutHJH7Jq"
      },
      "source": [
        "# Objectives\n",
        "\n",
        "\n",
        "### Data Visualization with Python\n",
        "\n",
        "* **Hands-on on creating visuals on a data file with Matplotlib, Pandas and Seaborn**\n",
        "  * Explore how to create line charts, scatter plots, histograms and bar chart using each of these libraries\n",
        "  * Highlight the differences, difficulty levels, and ease of use of these libraries for visualization.<br><br> \n",
        "\n",
        "* **Future Topics**<br><br>\n",
        "\n",
        "* **Helpful hints & resources**"
      ]
    },
    {
      "cell_type": "markdown",
      "metadata": {
        "id": "RFPDmdp-H7Jv"
      },
      "source": [
        "# Our Data\n",
        "We will be using files from the [Portal Project Teaching Database](https://figshare.com/articles/Portal_Project_Teaching_Database/1314459). This section will use the **'surveys.csv'** file, stored as a **'.csv'** and can be downloaded here: https://ndownloader.figshare.com/files/2292172<br>\n",
        "We are studying the species and weight of animals caught in sites in our study area.<br>\n",
        "Each row holds information for a single animal, and the columns represent:\n",
        "\n",
        "| **Column**      | **Description**               |\n",
        "|:----------------|:------------------------------|\n",
        "| record_id       | Unique id for the observation |\n",
        "| month           | month of observation          |\n",
        "| day             | day of observation            |\n",
        "| year            | year of observation           |\n",
        "| plot_id         | ID of a particular site       |\n",
        "| species_id      | 2-letter code for a species   |\n",
        "| sex             | sex of animal (“M”, “F”)      |\n",
        "| hindfoot_length | length of the hindfoot in mm  |\n",
        "| weight          | weight of the animal in grams |\t"
      ]
    },
    {
      "cell_type": "code",
      "source": [
        "# Run this cell, if you're on Colab to download the 'data' file\n",
        "!wget https://raw.githubusercontent.com/CEASLIBRARY/Data_Analysis_with_Python/master/data/surveys.csv"
      ],
      "metadata": {
        "id": "M76hCSbSIAE4"
      },
      "execution_count": null,
      "outputs": []
    },
    {
      "cell_type": "code",
      "execution_count": null,
      "metadata": {
        "id": "Mq6Wvh6qH7Jw"
      },
      "outputs": [],
      "source": [
        "import pandas as pd\n",
        "surveys = pd.read_csv(\"surveys.csv\")\n",
        "surveys_complete=surveys.dropna().reset_index()\n",
        "surveys_complete.head(5)"
      ]
    },
    {
      "cell_type": "markdown",
      "metadata": {
        "id": "gkln7h-HH7Jx"
      },
      "source": [
        "# Matplotlib Library\n",
        "* **Matplotlib** is a Python library used to create high-quality graphics.\n",
        "* It supports a wide range of graphics formats including **PNG**, **PostScript**, **EPS**, **PDF** and **SVG**.\n",
        "* **Matplotlib** has a Matlab like interface\n",
        "* **Matplotlib** is the actual engine behind the plotting and visualization capabilities of both **Pandas** library used in Python IV workshop and **Seaborn** library to be explored in this workshop\n",
        "\n",
        "## Plotting in Matplotlib\n",
        "* Two interfaces for plotting using **matplotlib** - State-based (like MATLAB) and Object-oriented.\n",
        "* State-based interface directly uses the functions/methods in **pyplot** module.\n",
        "* Object-oriented interface creates two objects, **axes** and **figure**, and makes use of the **pyplot** module."
      ]
    },
    {
      "cell_type": "markdown",
      "metadata": {
        "id": "biBGkeYDH7Jy"
      },
      "source": [
        "### Import the  Matplotlib 'pyplot' module\n",
        "First, import the pyplot module"
      ]
    },
    {
      "cell_type": "code",
      "execution_count": null,
      "metadata": {
        "id": "Dd35qyxlH7Jy"
      },
      "outputs": [],
      "source": [
        "import matplotlib.pyplot as plt"
      ]
    },
    {
      "cell_type": "markdown",
      "metadata": {
        "id": "OwDtzwQSH7Jz"
      },
      "source": [
        "### Using 'pyplot'"
      ]
    },
    {
      "cell_type": "code",
      "execution_count": null,
      "metadata": {
        "id": "Ne47X9N3H7Jz"
      },
      "outputs": [],
      "source": [
        "plt.scatter(surveys_complete[\"hindfoot_length\"],surveys_complete[\"weight\"])\n",
        "plt.show()"
      ]
    },
    {
      "cell_type": "markdown",
      "metadata": {
        "id": "fVuwlI3BH7J0"
      },
      "source": [
        "* Same figure but **NO** axis label\n",
        "* Need to use **pyplot**'s **ylabel** and **xlabel** to set the axis labels.\n",
        "* **Matplotlib** is a low-level library which offers lots of freedom at the cost of having to write more code.\n",
        "* It can be overwhelming, so a useful strategy is to create the plot in **Pandas** or **plotnine**, and then use matplotlib for the rest."
      ]
    },
    {
      "cell_type": "markdown",
      "metadata": {
        "id": "fIMhtSYXH7J1"
      },
      "source": [
        "**<h5><center>Note</center></h5>**\n",
        "\n",
        "* **plt.show( )** function or command allows you to visualize plots when working at the command line, with a script, or at the IPython interpreter. \n",
        "* **Jupyter Notebook** makes many aspects of data analysis and visualization much simpler. Adding **plt.show( )** when working on Jupyter Notebook is optional.\n",
        "* Adding **plt.show( )** after the creation of the plot will enable for those who aren’t using a Jupyter notebook."
      ]
    },
    {
      "cell_type": "markdown",
      "metadata": {
        "id": "PZERNu4xH7J1"
      },
      "source": [
        "### Pyplot subplots function (Object-oriented)\n",
        "* Used to create layouts of subplots (two or more plots in one figure)\n",
        "* It creates a figure and an axes object\n",
        "\n",
        "*Syntax*:<br>\n",
        "**fig, ax = plt.subplots (  nrows , ncols  )**<br>\n",
        "*Note*:\n",
        "* **nrows**, **ncols** are optional integers, Default is 1**\n",
        "* **Returns: fig - A Figure object**<br>\n",
        "$\\;\\;\\;\\;\\;\\;\\;\\;\\;\\;\\;\\;$**ax - An ' axes.Axes' object or array of Axes objects**<br><br>\n",
        "\n",
        "**You can set some axis properties**\n",
        "\n",
        "*Syntax*:<br>\n",
        "**ax.set_title ( title_label,  fontdict,  loc  )**<br>\n",
        "**ax.set_xlabel ( xlabel )**<br>\n",
        "**ax.set_ylabel ( ylabel )**<br>\n",
        "\n",
        "*Note*:\n",
        "* **title_label** is a string used for the title. NOT optional.\n",
        "* **fontdict** is an optional dictionary controlling the appearance of the title text. Default is **None**\n",
        "* **loc** is an optional string to align the title (**'center'**, **'left'**, **'right'**). Default is **'center'**\n",
        "* **xlabel** and **ylabel** are string labels for **'x'** and **'y'** axes<br><br>\n",
        "\n",
        "**You can set some figure properties**\n",
        "\n",
        "*Syntax*:<br>\n",
        "**fig.suptitle ( title , fontsize  )**<br>\n",
        "\n",
        "*Note*:\n",
        "* **title** is a string for the title of the figure.\n",
        "* **fontsize** is an optional fontsize for the text\n",
        "\n",
        "*Usage*: "
      ]
    },
    {
      "cell_type": "code",
      "execution_count": null,
      "metadata": {
        "id": "sO8nFFwtH7J1"
      },
      "outputs": [],
      "source": [
        "fig, ax = plt.subplots()\n",
        "print(type(fig))\n",
        "print(type(ax))\n",
        "ax.set_title('Trial sub-plot title')\n",
        "ax.set_xlabel('Trial x axis title')\n",
        "ax.set_ylabel('Trial y axis title')\n",
        "fig.suptitle('Trial  Figure  title', fontsize = 15)\n",
        "plt.show()"
      ]
    },
    {
      "cell_type": "code",
      "execution_count": null,
      "metadata": {
        "id": "JwH3eNDaH7J2"
      },
      "outputs": [],
      "source": [
        "fig, ax = plt.subplots(1,2)\n",
        "# Subplot 1 properties\n",
        "ax[0].set_xlabel('Trial x axis title')\n",
        "ax[0].set_ylabel('Trial y axis title')\n",
        "\n",
        "# Subplot 2 properties\n",
        "ax[1].set_xlabel('Trial x axis title')\n",
        "ax[1].set_ylabel('Trial y axis title')\n",
        "\n",
        "fig.suptitle('Trial  Figure  title', fontsize = 15)\n",
        "plt.show()"
      ]
    },
    {
      "cell_type": "code",
      "execution_count": null,
      "metadata": {
        "id": "dDwxF1zEH7J2"
      },
      "outputs": [],
      "source": [
        "fig, ax = plt.subplots(2,2)\n",
        "# Subplot 1 properties\n",
        "ax[0,0].set_xlabel('Trial x axis title')\n",
        "ax[0,0].set_ylabel('Trial y axis title')\n",
        "\n",
        "# Subplot 2 properties\n",
        "ax[1,1].set_xlabel('Trial x axis title')\n",
        "ax[1,1].set_ylabel('Trial y axis title')\n",
        "\n",
        "fig.suptitle('Trial  Figure  title', fontsize = 15)\n",
        "plt.show()"
      ]
    },
    {
      "cell_type": "markdown",
      "metadata": {
        "id": "N6BHUOCXH7J3"
      },
      "source": [
        "### Add diagrams using 'ax' object methods\n",
        "* Add diagrams by using an apprioprate plot type or a visualization method for the **ax** object\n",
        "\n",
        "*Syntax*:<br>\n",
        "**axes_object.visual_method( )**\n",
        "\n",
        "*Note*:\n",
        "* The visual method can be **plot** (for line charts), **scatter** (for scatter plot), **hist** (for histograms), **bar** (for bar chart), etc.\n",
        "\n",
        "*Usage*: "
      ]
    },
    {
      "cell_type": "code",
      "execution_count": null,
      "metadata": {
        "id": "-0X1ZXyBH7J3"
      },
      "outputs": [],
      "source": [
        "import numpy as np\n",
        "\n",
        "#trigonometric data to display\n",
        "x = np.linspace(0, 4 * np.pi, 400)\n",
        "y1 = np.sin(x)\n",
        "y2 = np.cos(x)\n",
        "\n",
        "fig, ax = plt.subplots(1, 2, figsize = (10,5))\n",
        "# Subplot 1 properties\n",
        "ax[0].plot(x,y1,'b')\n",
        "ax[0].set_title('y = sin x')\n",
        "\n",
        "# Subplot 2 properties\n",
        "ax[1].plot(x,y2,'r')\n",
        "ax[1].set_title('y = cos x')\n",
        "\n",
        "fig.suptitle('Trigonometric Functions', fontsize = 15)\n",
        "plt.show()"
      ]
    },
    {
      "cell_type": "markdown",
      "metadata": {
        "id": "yP-xRTHZH7J3"
      },
      "source": [
        "### Saving the figure\n",
        "* Use the **savefig** method of the Figure object\n",
        "\n",
        "*Syntax*:<br>\n",
        "**Figure_object.savefig ( file_path_name )**\n",
        "\n",
        "*Note*:\n",
        "* **file_path_name** is a string for the file name with a possible path\n",
        "\n",
        "*Usage*: "
      ]
    },
    {
      "cell_type": "code",
      "execution_count": null,
      "metadata": {
        "scrolled": false,
        "id": "y06WLHQfH7J4"
      },
      "outputs": [],
      "source": [
        "fig.savefig('trial.png')"
      ]
    },
    {
      "cell_type": "markdown",
      "metadata": {
        "id": "yLnUf5nAH7J4"
      },
      "source": [
        "### Matplotlib Pyplot for Scatter Plot\n",
        "* Use the **scatter** method\n",
        "\n",
        "*Syntax*:<br>\n",
        "**axes_object.scatter( x , y , [ color ] )**\n",
        "\n",
        "*Note*:\n",
        "* **x** and **y** are the data positions - array_like, of shape (n, ). They have to be of the same length.\n",
        "* **color** is an optional sequence for the color\n",
        "\n",
        "*Usage*: \n",
        "#### Scatter plot of the hindfoot_length against the weight"
      ]
    },
    {
      "cell_type": "code",
      "execution_count": null,
      "metadata": {
        "id": "QV5TFG0sH7J4"
      },
      "outputs": [],
      "source": [
        "fig, ax = plt.subplots()\n",
        "\n",
        "# scatter the hindfoot_length against the weight\n",
        "ax.scatter(surveys_complete[\"hindfoot_length\"],surveys_complete[\"weight\"],c='blue')\n",
        "\n",
        "# set a title and labels\n",
        "ax.set_title('hindfoot_length VS weight')\n",
        "ax.set_xlabel('hindfoot_length')\n",
        "ax.set_ylabel('weight')\n",
        "\n",
        "# add text to the figure\n",
        "ax.text(33, 280, 'Max_Weight', fontsize = 12)\n",
        "\n",
        "# add annotations to the figure\n",
        "ax.annotate('Maximum_Weight', xy = (33,280), xytext = (45,200), arrowprops=dict(facecolor='black', shrink = 1), fontsize = 12)\n",
        "\n",
        "plt.show()"
      ]
    },
    {
      "cell_type": "markdown",
      "metadata": {
        "id": "PP_wghvKH7J5"
      },
      "source": [
        "### Matplotlib Pyplot for Line Chart\n",
        "* Use the **plot** method\n",
        "\n",
        "*Syntax*:<br>\n",
        "**axes_object.plot( x , y , [ color ] )**\n",
        "\n",
        "*Note*:\n",
        "* **x** and **y** are the data positions - array_like, of shape (n, ). They have to be of the same length.\n",
        "* **color** is an optional sequence for the color\n",
        "\n",
        "*Usage*: \n",
        "#### Line plot of each year and count of the number of animals found"
      ]
    },
    {
      "cell_type": "code",
      "execution_count": null,
      "metadata": {
        "id": "gZITdKc_H7J5"
      },
      "outputs": [],
      "source": [
        "year_agg = surveys_complete.groupby('year')['record_id'].count()\n",
        "fig, ax = plt.subplots()\n",
        "\n",
        "# plot the year against count\n",
        "ax.plot(year_agg)\n",
        "\n",
        "# set a title and labels\n",
        "ax.set_title('Number of animals per year')\n",
        "ax.set_xlabel('year')\n",
        "ax.set_ylabel('Count')\n",
        "plt.show()"
      ]
    },
    {
      "cell_type": "markdown",
      "metadata": {
        "id": "iwUPNiUPH7J6"
      },
      "source": [
        "### Matplotlib Pyplot for Histogram\n",
        "* Use the **hist** method\n",
        "\n",
        "*Syntax*:<br>\n",
        "**axes_object.hist ( x, [ bins ] , [ color ] )**\n",
        "\n",
        "*Note*:\n",
        "* **x** is an (n,) array or sequence of (n,) arrays which are not required to be of the same length.\n",
        "\n",
        "*Usage*: \n",
        "#### Frequency of years"
      ]
    },
    {
      "cell_type": "code",
      "execution_count": null,
      "metadata": {
        "id": "UM3Aqmx6H7J6"
      },
      "outputs": [],
      "source": [
        "fig, ax = plt.subplots()\n",
        "\n",
        "# histogram of years\n",
        "ax.hist(surveys_complete['year'])\n",
        "\n",
        "# set a title and labels\n",
        "ax.set_title('Number of animals per year')\n",
        "ax.set_xlabel('year')\n",
        "ax.set_ylabel('Frequency')\n",
        "plt.show()"
      ]
    },
    {
      "cell_type": "markdown",
      "metadata": {
        "id": "5OGcim8QH7J6"
      },
      "source": [
        "### Matplotlib Pyplot for Bar Chart\n",
        "* Use the **bar** method\n",
        "\n",
        "*Syntax*:<br>\n",
        "**axes_object.bar ( x, height, [ width ] , [ align ] , [ color ] )**\n",
        "\n",
        "*Note*:\n",
        "* **x** is a sequence of scalars. The x coordinates of the bars.\n",
        "* **height** is a scalar or sequence of scalars for the height(s) of the bars.\n",
        "* **width** is scalar or array-like object for the width(s) of the bars. OPTIONAL. Default: 0.8.\n",
        "* **align** is for the alignment of the bars to the x coordinates ('center', 'edge'). . OPTIONAL. Default: 'center'\n",
        "\n",
        "*Usage*: \n",
        "#### Bar Chart of each year and count of the number of animals found\n",
        "Bar charts need two sequences, one for the x axis and the other for the y axis, unlike histograms which do the aggregation on just one sequence."
      ]
    },
    {
      "cell_type": "code",
      "execution_count": null,
      "metadata": {
        "id": "cnhSw5y8H7J6"
      },
      "outputs": [],
      "source": [
        "year_agg = surveys_complete.groupby('year')['record_id'].count()\n",
        "fig, ax = plt.subplots()\n",
        "\n",
        "# bar chart of the each year's count\n",
        "ax.bar(year_agg.index,year_agg.values)\n",
        "\n",
        "# set a title and labels\n",
        "ax.set_title('Number of animals per year')\n",
        "ax.set_xlabel('year')\n",
        "ax.set_ylabel('count')\n",
        "plt.show()"
      ]
    },
    {
      "cell_type": "markdown",
      "metadata": {
        "id": "NwHDf6GpH7J7"
      },
      "source": [
        "# Exercise 1\n",
        "Create bar charts using **Pyplot** to answer th following questions\n",
        "1. **Which location has the most animals?**<br>\n",
        "   *Hints*:<br> \n",
        "   Create a plot of the number of animals per site (**plot_id**)<br>\n",
        "   Group by **plot_id** and count the number of **record_id**s<br><br>\n",
        "   \n",
        "2. **Which species has the highest average weights?**<br>\n",
        "   *Hints*:<br>\n",
        "   Create a plot of average weight per species<br>\n",
        "   Group by **species_id** and find the average (**mean**) of the **weight**s"
      ]
    },
    {
      "cell_type": "code",
      "execution_count": null,
      "metadata": {
        "id": "lUqFu0tzH7J7"
      },
      "outputs": [],
      "source": []
    },
    {
      "cell_type": "code",
      "execution_count": null,
      "metadata": {
        "id": "JJVA37WjH7J7"
      },
      "outputs": [],
      "source": []
    },
    {
      "cell_type": "markdown",
      "metadata": {
        "id": "xFa-_SsQH7J7"
      },
      "source": [
        "# Pandas for Visualization\n",
        "* **Pandas** library provides data structures, such as dataframes and series for working with tabular data and data analysis.\n",
        "* **Pandas** provides higher level visualization tools built on **Matplotlib** makes it really easy to create plots out of a pandas dataframe and series. Since it has a higher level API than **Matplotlib**, we need less code for the same results.\n",
        "* **Pandas** for Data Analysis was introduced into details in the Python IV workshop while a quick intoduction to **Pandas** for data visualization was done in the same workshop\n",
        "\n",
        "### Pandas Plot method\n",
        "There two syntaxes for using the Pandas **plot** method\n",
        "\n",
        "* Using the plot kind as a string input to the method<br>\n",
        "* *Syntax 1*:<br>\n",
        "  **dataFrame_object.plot ( [ x ] , [ y ] , [ plot_kind ] , [ ax ] , [ subplots ] , [ layout ] , [ sharex ] , [ sharey ] , [ title ] , [ grid ] , [ legend ] ,  [ color ] )** <br>\n",
        "\n",
        "* Using the corresponding method of the plot kind on the **DataFrame_object.plot** accessor<br>\n",
        "Each plot kind has a corresponding method on the **DataFrame_object.plot** accessor<br>\n",
        "* *Syntax 2*:<br>\n",
        " **dataFrame_object.plot.plot_kind ( [ x ] , [ y ] , [ ax ] , [ subplots ] , [ layout ] , [ title ] , [ grid ] , [ legend ] ,  [ color ] )**\n",
        "\n",
        "*Note*:\n",
        "* **'x'** is OPTIONAL string label or integer index representing the column in the DataFrame object to be used on the **'x'** axis. Default is **None**. If **None** it will use the DataFrame indices.\n",
        "* **'y'** are OPTIONAL string label or integer index or a list of them representing the column name in the DataFrame object to be plotted on the **'y'** axis. If a list is used, a plot for each one will be created. Default is **None**. If **None** it will use the list of the remaining DataFrame numeric columns as **'y'**\n",
        "* If no x and y is specified, it will use the DataFrame indices as **'x'** and use the list of the remaining DataFrame numeric columns as **'y'**\n",
        "* If only one column is specified it will be used as x and the list of the remaining DataFrame numeric columns as **y**\n",
        "* **plot_kind** can be specified as \n",
        "  * line : line plot (Default in the case of Syntax 1)\n",
        "  * scatter : scatter plot\n",
        "  * bar : vertical bar plot\n",
        "  * barh : horizontal bar plot\n",
        "  * hist : histogram\n",
        "  * pie : pie plot\n",
        "  * box : boxplot\n",
        "  * kde : Kernel Density Estimation plot\n",
        "  * density : same as ‘kde’\n",
        "  * area : area plot\n",
        "  * hexbin : hexbin plot\n",
        "* **ax** is a matplotlib axes object. Default is **None**\n",
        "* **subplots** is boolean that represents making a separate subplots for each column. Default is **False**\n",
        "* **layout** is tuple for the layout of subplots (rows, columns). OPTIONAL.\n",
        "* **title** is string or list of Title(s) to use for the plot(s). If a string is passed, print the string at the top of the figure. If a list is passed and subplots is True, print each item in the list above the corresponding subplot.\n",
        "* **grid** is boolean for axis grid lines. Default is **None** for matlab style default\n",
        "* **legend** is False/True/'reverse' to place legend on axis subplots\n",
        "\n",
        "### Scatter plot with Pandas Plot method\n",
        "* **'x'** and **'y'** are **NOT OPTIONAL** and **'y'** **CANNOT** be a list\n",
        "\n",
        "#### Scatter plot of the hindfoot_length against the weight"
      ]
    },
    {
      "cell_type": "code",
      "execution_count": null,
      "metadata": {
        "id": "qvmMWS1wH7J7"
      },
      "outputs": [],
      "source": [
        "surveys_complete.plot('hindfoot_length','weight',kind='scatter',title='hindfoot_length VS weight')\n",
        "plt.show()"
      ]
    },
    {
      "cell_type": "markdown",
      "metadata": {
        "id": "_VDke7cgH7J8"
      },
      "source": [
        "### Line Chart with Pandas Plot method\n",
        "\n",
        "#### Line plot of each year and count of the number of animals found"
      ]
    },
    {
      "cell_type": "code",
      "execution_count": null,
      "metadata": {
        "id": "RVZJgaBvH7J8"
      },
      "outputs": [],
      "source": [
        "year_agg = surveys_complete.groupby('year')['record_id'].count()\n",
        "year_agg.plot()\n",
        "plt.show()"
      ]
    },
    {
      "cell_type": "markdown",
      "metadata": {
        "id": "rCO2YhRSH7J8"
      },
      "source": [
        "#### Line charts of average weights and hindfoot lengths per year on same plot"
      ]
    },
    {
      "cell_type": "code",
      "execution_count": null,
      "metadata": {
        "id": "ROEVbtKMH7J8"
      },
      "outputs": [],
      "source": [
        "species_agg = surveys_complete.groupby('year')[['weight','hindfoot_length']].mean()\n",
        "species_agg.plot()\n",
        "plt.show()"
      ]
    },
    {
      "cell_type": "markdown",
      "metadata": {
        "id": "FbVQkXK5H7J8"
      },
      "source": [
        "#### Line charts of average weights and hindfoot lengths per year on two subplots\n",
        "You can play with the layout by specifying layout parameter"
      ]
    },
    {
      "cell_type": "code",
      "execution_count": null,
      "metadata": {
        "id": "8nvnBCK0H7J8"
      },
      "outputs": [],
      "source": [
        "species_agg.plot(subplots=True)\n",
        "plt.show()"
      ]
    },
    {
      "cell_type": "markdown",
      "metadata": {
        "id": "hezXvrzTH7J9"
      },
      "source": [
        "### Histograms with Pandas Plot method\n",
        "#### Frequency of years"
      ]
    },
    {
      "cell_type": "code",
      "execution_count": null,
      "metadata": {
        "id": "DC8hABXxH7J9"
      },
      "outputs": [],
      "source": [
        "surveys_complete['year'].plot(kind='hist',title='Frequency of animals per year')\n",
        "plt.show()"
      ]
    },
    {
      "cell_type": "markdown",
      "metadata": {
        "id": "m7Hh0shFH7J9"
      },
      "source": [
        "#### Frequency of weights and hindfoot lengths on subplots"
      ]
    },
    {
      "cell_type": "code",
      "execution_count": null,
      "metadata": {
        "id": "v49qLB_lH7J9"
      },
      "outputs": [],
      "source": [
        "fig,ax=plt.subplots(2,1)\n",
        "ax[0].set_xlim(0,surveys_complete.weight.max())\n",
        "ax[1].set_xlim(0,surveys_complete.hindfoot_length.max())\n",
        "surveys_complete[['weight','hindfoot_length']].plot.hist(subplots=True,sharex=False,ax=ax,bins=40)\n",
        "plt.show()"
      ]
    },
    {
      "cell_type": "markdown",
      "metadata": {
        "id": "uCwKtD4kH7J9"
      },
      "source": [
        "### Bar Chart with Pandas Plot method\n",
        "#### Bar Chart of each species and count of the number of animals"
      ]
    },
    {
      "cell_type": "code",
      "execution_count": null,
      "metadata": {
        "id": "xEz1O3O3H7J9"
      },
      "outputs": [],
      "source": [
        "#spec_count = surveys_complete.groupby('species_id')['record_id'].count()\n",
        "surveys_complete.groupby('species_id')['record_id'].count().plot(kind='bar',title='Species count')\n",
        "plt.show()"
      ]
    },
    {
      "cell_type": "markdown",
      "metadata": {
        "id": "rU9HQA3gH7J9"
      },
      "source": [
        "#### Bar Chart of average wieight and max hindfoot length of each species in a single plot"
      ]
    },
    {
      "cell_type": "code",
      "execution_count": null,
      "metadata": {
        "id": "id6fV3JrH7J-"
      },
      "outputs": [],
      "source": [
        "agg = surveys_complete.groupby('species_id').agg({'weight':'mean','hindfoot_length':'max'})\n",
        "agg.plot(kind='bar',title='Mean Weight and Max Hindfoot Length of Each Species')\n",
        "plt.show()"
      ]
    },
    {
      "cell_type": "markdown",
      "metadata": {
        "id": "QxQ2qa0EH7J-"
      },
      "source": [
        "#### Bar Chart of count, average weight and max hindfoot length of each species in subplots"
      ]
    },
    {
      "cell_type": "code",
      "execution_count": null,
      "metadata": {
        "id": "bsI-Sp44H7J-"
      },
      "outputs": [],
      "source": [
        "agg = surveys_complete.groupby('species_id').agg({'record_id':'count','weight':'mean','hindfoot_length':'max'})\n",
        "agg.plot(kind='bar',title='Count, Weight mean and Max Hindfoot Length of each species',subplots=True)\n",
        "plt.show()"
      ]
    },
    {
      "cell_type": "markdown",
      "metadata": {
        "id": "cYxo8IZuH7J-"
      },
      "source": [
        "**<h5><center>Note</center></h5>**\n",
        "\n",
        "Use **plt.xlabel( )** and **plt.ylabel( )** function  or command (plt stands for matplotlib.pyplot) to set **'x'** and **'y'** axis labels in cases where they are not set automatically\n",
        "\n",
        "*Syntax*:<br>\n",
        "**plt.xlabel ( xlabel )**\n",
        "**plt.ylabel ( ylabel )**\n",
        "\n",
        "*Note*:\n",
        "* **xlabel** and **ylabel** are strings for the **'x'** and **'y'** axis labels\n",
        "\n",
        "*Usage*: "
      ]
    },
    {
      "cell_type": "code",
      "execution_count": null,
      "metadata": {
        "id": "vmGXo5SbH7J-"
      },
      "outputs": [],
      "source": [
        "#spec_count = surveys_complete.groupby('species_id')['record_id'].count()\n",
        "surveys_complete.groupby('species_id')['record_id'].count().plot(kind='bar',title='Species count')\n",
        "plt.ylabel('count')\n",
        "plt.show()"
      ]
    },
    {
      "cell_type": "markdown",
      "metadata": {
        "id": "c8k7_YErH7J-"
      },
      "source": [
        "# Exercise 2\n",
        "Redo Exercise 1 with **Pandas**<br>\n",
        "Create bar charts using **Pandas** to answer th following questions\n",
        "1. **Which location has the most animals?**<br>\n",
        "   *Hints*:<br> \n",
        "   Create a plot of the number of animals per site (**plot_id**)<br>\n",
        "   Group by **plot_id** and count the number of **record_id**s<br><br>\n",
        "   \n",
        "2. **Which species has the highest average weights?**<br>\n",
        "   *Hints*:<br>\n",
        "   Create a plot of average weight per species<br>\n",
        "   Group by **species_id** and find the average (**mean**) of the **weight**s"
      ]
    },
    {
      "cell_type": "code",
      "execution_count": null,
      "metadata": {
        "id": "wJ_8aIaTH7J_"
      },
      "outputs": [],
      "source": []
    },
    {
      "cell_type": "code",
      "execution_count": null,
      "metadata": {
        "id": "7IBcZmdTH7J_"
      },
      "outputs": [],
      "source": []
    },
    {
      "cell_type": "markdown",
      "metadata": {
        "id": "d78vItswH7J_"
      },
      "source": [
        "# Simple Visualization with Seaborn Library\n",
        "* **Seaborn** is a high-level interface library for statistical data visualization  based on **matplotlib**"
      ]
    },
    {
      "cell_type": "code",
      "execution_count": null,
      "metadata": {
        "id": "yN5Zqh-sH7J_"
      },
      "outputs": [],
      "source": [
        "import seaborn as sns"
      ]
    },
    {
      "cell_type": "markdown",
      "metadata": {
        "id": "dt44_kxMH7J_"
      },
      "source": [
        "### Scatter plot\n",
        "* The .**scatterplot** function is used\n",
        "\n",
        "*Syntax*:<br>\n",
        "**sns.scatterplot ( x, y , data , [ hue ] , [ color ] )**\n",
        "\n",
        "*Note*:\n",
        "* **'x'** is string label for the column for **'x'** axis.\n",
        "* **'y'** is string label for the column for **'y'** axis.\n",
        "* **data** is the data frame object for the data source.\n",
        "* **hue** is string label for column for highlight the points by class by color\n",
        "* **color** is string for color\n",
        "\n",
        "*Usage*: \n",
        "#### Scatter plot of the hindfoot_length against the weight"
      ]
    },
    {
      "cell_type": "code",
      "execution_count": null,
      "metadata": {
        "id": "BPew1rxfH7J_"
      },
      "outputs": [],
      "source": [
        "sns.scatterplot(x='hindfoot_length',y='weight',data=surveys_complete)\n",
        "plt.show()"
      ]
    },
    {
      "cell_type": "markdown",
      "metadata": {
        "id": "rUr7vN9vH7J_"
      },
      "source": [
        "#### Scatter plots with coloring to classify each data-point by species ID"
      ]
    },
    {
      "cell_type": "code",
      "execution_count": null,
      "metadata": {
        "id": "eWZIiAc6H7J_"
      },
      "outputs": [],
      "source": [
        "df = surveys_complete.sample(1000)\n",
        "sns.scatterplot(x='hindfoot_length',y='weight',data=df,hue='species_id')\n",
        "plt.show()"
      ]
    },
    {
      "cell_type": "markdown",
      "metadata": {
        "id": "U-avAsKtH7KA"
      },
      "source": [
        "### Line chart\n",
        "* To create a line-chart the **lineplot** function\n",
        "* The only required argument is the **data**\n",
        "\n",
        "*Usage*: \n",
        "\n",
        "#### Line plot of each year and count of the number of animals found"
      ]
    },
    {
      "cell_type": "code",
      "execution_count": null,
      "metadata": {
        "id": "Ib9iU1RgH7KA"
      },
      "outputs": [],
      "source": [
        "year_agg = surveys_complete.groupby('year')['record_id'].count()\n",
        "sns.lineplot(data=year_agg)\n",
        "plt.show()"
      ]
    },
    {
      "cell_type": "markdown",
      "metadata": {
        "id": "G99_sfARH7KA"
      },
      "source": [
        "#### Line charts of average weights and hindfoot lengths per year on same plot"
      ]
    },
    {
      "cell_type": "code",
      "execution_count": null,
      "metadata": {
        "id": "6cTXmrDYH7KA"
      },
      "outputs": [],
      "source": [
        "species_agg = surveys_complete.groupby('year')[['weight','hindfoot_length']].mean()\n",
        "sns.lineplot(data=species_agg)\n",
        "plt.show()"
      ]
    },
    {
      "cell_type": "markdown",
      "metadata": {
        "id": "4QI6UHdGH7KA"
      },
      "source": [
        "### Histogram\n",
        "* To create a histogram, use the **distplot** function\n",
        "\n",
        "*Syntax*:<br>\n",
        "**sns.distplot ( data_series_object , [ bins ] , [ kde ] , [ color ] )**\n",
        "\n",
        "*Note*:\n",
        "* **data_series_object** 1-dim data series to be plotted. Can be a specific column selection from a data frame object.\n",
        "* **bins** is number of bins.\n",
        "* **kde** is boolean for plotting a gaussian kernel density estimate inside the graph.Default is **True**\n",
        "* **color** is string for color\n",
        "\n",
        "*Usage*: \n",
        "#### Frequency of years"
      ]
    },
    {
      "cell_type": "code",
      "execution_count": null,
      "metadata": {
        "id": "9gcgS0brH7KA"
      },
      "outputs": [],
      "source": [
        "sns.distplot(surveys_complete['year'], bins = 10, kde = False)\n",
        "plt.show()"
      ]
    },
    {
      "cell_type": "markdown",
      "metadata": {
        "id": "aPQKykoiH7KB"
      },
      "source": [
        "### Bar chart\n",
        "* To create a bar charts, use the **barplot** function\n",
        "* Unlike **Matplotlib** and **Panda**, **Seaborn** will do the aggregation on the dataset for Bar charts\n",
        "\n",
        "*Syntax*:<br>\n",
        "**sns.barplot ( x , y , data, [ hue ] , [ color ] )**\n",
        "\n",
        "*Note*:\n",
        "* **'x'** is OPTIONAL string label for the column for **'x'** coordinates of the bars. Use **'x'** if you want the chart to be VERTICAL.\n",
        "* **y** is OPTIONAL string label for the column for **'Y'** coordinates of the bars. Use **'Y'** if you want the chart to be HORIZONTAL.\n",
        "* Either **'x'**or **'y'** MUST be present but both CANNOT be parsed in the same function call. Unless stated, string label for columns are defaulted to **'x'** (vertical).\n",
        "* **hue** is OPTIONAL string label for column which specifies categories to shw count for.\n",
        "* **data** is the data frame object for the data source.\n",
        "* **color** is string for color"
      ]
    },
    {
      "cell_type": "markdown",
      "metadata": {
        "id": "vLlfueFyH7KB"
      },
      "source": [
        "*Usage*: \n",
        "#### Bar Chart of each species and the number of male and females"
      ]
    },
    {
      "cell_type": "code",
      "execution_count": null,
      "metadata": {
        "id": "ILC_cux7H7KB"
      },
      "outputs": [],
      "source": [
        "sns.barplot(x ='species_id',y = 'record_id',hue='sex',data=surveys_complete)\n",
        "plt.savefig('trial2.png')\n",
        "plt.show()"
      ]
    },
    {
      "cell_type": "markdown",
      "metadata": {
        "id": "6xfkrX14H7KB"
      },
      "source": [
        "**<h5><center>Note</center></h5>**\n",
        "\n",
        "* **plt.savefig( )** function or command (plt stands for matplotlib.pyplot) allows you to save figures not made out of **matplotlib**'s **pyplot**.\n",
        "* To save a figure, use the command **plt.savefig( )** before using **plt.show( )**\n",
        "\n",
        "*Syntax*:<br>\n",
        "**plt.savefig ( file_path_name )**\n",
        "\n",
        "*Note*:\n",
        "* **file_path_name** is a string for the file name with a possible path"
      ]
    },
    {
      "cell_type": "markdown",
      "metadata": {
        "id": "YZ5l-okjH7KB"
      },
      "source": [
        "# Exercise 3\n",
        "Redo Exercise 1.1 with **Seaborn**<br>\n",
        "Create bar charts using **Seaborn** to answer th following questions\n",
        "1. **Which location has the most animals?**<br>\n",
        "   *Hints*:<br> \n",
        "   Create a plot of the number of animals per site (**plot_id**)<br>\n",
        "   Group by **plot_id** and count the number of **record_id**s"
      ]
    },
    {
      "cell_type": "code",
      "execution_count": null,
      "metadata": {
        "id": "NJ4NLTxFH7KB"
      },
      "outputs": [],
      "source": []
    },
    {
      "cell_type": "markdown",
      "metadata": {
        "id": "YPw7T_2QH7KB"
      },
      "source": [
        "# Advanced and Future Topics\n",
        "* Advanced Data Visuals; Box plots, Heatmap, Faceting, Pair plots\n",
        "* More on **Seaborn** library\n",
        "* **Plotnine** library for advanced data visualization\n",
        "* Error Handling and Exceptions\n",
        "* List Comprehension\n",
        "* Rgular Expressions\n",
        "* Database Access\n",
        "* Multithreading\n",
        "\n",
        "# Helpful Resources\n",
        "* CEAS Library Python resources - http://guides.libraries.uc.edu/python\n",
        "* Online links & tutorials\n",
        " * Matplotlib user guide - https://matplotlib.org/ \n",
        " * Data Carpentry - https://datacarpentry.org/python-ecology-lesson/\n",
        " * [Click on this link for a tutorial on making plots with **Plotnine**](https://datacarpentry.org/python-ecology-lesson/07-visualization-ggplot-python/index.html)\n",
        " * [Click on this link for more on visualization with **Seaborn**](https://www.datacamp.com/community/tutorials/seaborn-python-tutorial?utm_source=adwords_ppc&utm_campaignid=1565261270&utm_adgroupid=67750485268&utm_device=c&utm_keyword=&utm_matchtype=b&utm_network=g&utm_adpostion=1t1&utm_creative=295208661514&utm_targetid=aud-392016246653:dsa-473406580275&utm_loc_interest_ms=&utm_loc_physical_ms=9015695&gclid=EAIaIQobChMIlKHbzreQ5AIVEMNkCh3IZQFfEAAYASAAEgJzn_D_BwE) \n",
        " * Python documentation - https://www.python.org/doc/\n",
        " * Python Programming wiki book - http://en.wikibooks.org/wiki/Python_Programming\n",
        " * Python tutorials - Udemy, Code academy, etc  "
      ]
    },
    {
      "cell_type": "markdown",
      "metadata": {
        "id": "tGZlThT0H7KB"
      },
      "source": [
        "\n",
        "\n",
        "\n",
        "$\\;\\;\\;\\;\\;\\;\\;\\;\\;\\;\\;\\;\\;\\;\\;\\;\\;\\;\\;\\;\\;\\;\\;\\;\\;\\;\\;\\;\\;\\;\\;\\;\\;\\;\\;\\;\\;\\;\\;\\;\\;\\;\\;\\;\\;\\;\\;\\;\\;\\;\\;\\;\\;\\;\\;\\;\\;\\;$**Thank you for attending the workshop !!**\n",
        "\n",
        "\n",
        "\n",
        "$\\;\\;\\;\\;\\;\\;\\;\\;\\;\\;\\;\\;\\;\\;\\;\\;\\;\\;\\;\\;\\;\\;\\;\\;\\;\\;\\;\\;\\;\\;\\;\\;\\;\\;\\;\\;\\;\\;\\;\\;\\;\\;\\;\\;\\;\\;$**Your kind suggestions/feedbacks are more than welcome**"
      ]
    },
    {
      "cell_type": "markdown",
      "source": [
        "[**Python Workshops' Feedback (30 Jan 23 - 03 Feb 23)**](https://forms.office.com/r/zyTUUxhvcv)\n",
        "\n",
        "![feedback.png](data:image/png;base64,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)"
      ],
      "metadata": {
        "id": "hx6TeaYmJd_6"
      }
    }
  ],
  "metadata": {
    "kernelspec": {
      "display_name": "Python 3",
      "language": "python",
      "name": "python3"
    },
    "language_info": {
      "codemirror_mode": {
        "name": "ipython",
        "version": 3
      },
      "file_extension": ".py",
      "mimetype": "text/x-python",
      "name": "python",
      "nbconvert_exporter": "python",
      "pygments_lexer": "ipython3",
      "version": "3.7.5"
    },
    "colab": {
      "name": "Data Visualization with Python.ipynb",
      "provenance": []
    }
  },
  "nbformat": 4,
  "nbformat_minor": 0
}
