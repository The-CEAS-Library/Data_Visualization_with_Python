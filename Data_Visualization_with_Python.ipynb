{
  "cells": [
    {
      "cell_type": "markdown",
      "metadata": {
        "id": "hCIxutHJH7Jq"
      },
      "source": [
        "# **Objectives**\n",
        "\n",
        "\n",
        "### **Data Visualization with Python**\n",
        "\n",
        "* **Hands-on on creating visuals on a data file with [Matplotlib](#scrollTo=gkln7h-HH7Jx), [Pandas](#scrollTo=xFa-_SsQH7J7) and [Seaborn](#scrollTo=d78vItswH7J_)**\n",
        "  * Explore how to create line charts, scatter plots, histograms, and bar chart using each of these libraries\n",
        "  * Highlight the differences, difficulty levels, and ease of use of these libraries for visualization.<br><br>\n"
      ]
    },
    {
      "cell_type": "markdown",
      "source": [
        "\n",
        "## **Using LLM AI as a coding tutor when learning this workshop on your own.**\n",
        "There are several ways that LLM can help improve your self-learning process. LLM AI can be used as a coding tutor to help:\n",
        "* Explain new concepts in other words. Ask it to give basic, intermediate, or advanced explanations of coding concepts depending on your familiarity and comfort level.\n",
        "* Guide you through the exercises and explain the logic and code. If you get stuck with the exercises, you can ask a LLM to give you a step-by-step guide to the exercise so you better understand the learning objectives. For best results, be very specific with the LLM AI so it has the necessary context to best help you.\n",
        "\n",
        "* Give you more exercises. If you aren't sure you understand a concept and want to test your knowledge, ask a LLM AI to give additional exercises to help test your abilities and understanding. They can be coding problems, multiple choice, fill in the blank, or whatever will work best for your learning style. Be creative and get the support you want.  \n",
        "\n",
        "The AI has infinite patience, so ask as many questions as you want!\n",
        "\n",
        "### **The Food Emojis**\n",
        "\n",
        "As you go through this workshop, you will notice **Food Emojis** embedded throughout. They accompany bolded terms that are the fundamental concepts that python programming is built upon. The key thing here is **if you see an emoji, consider asking a LLM AI about the bolded concept**. For fun, we have gamified this by thinking of the emojis as dishes you can collect on a world food tour.\n",
        "  - To collect all the dishes, you should follow the workshop section by section and add your found dish (new coding concept) to the end of the following prompt and take it to LLM AI:\n",
        "\n",
        " `You are going to take on the role of an excellent python coding tutor. I'm a beginner learning to program in python. In simple terms, please give me an overview and explanation of the following concept:  `\n",
        "\n",
        "  - You can add more surrounding components to the prompts to make it more clear. For example, maybe you know another language and want LLM AI to compare how the concept works in R or C++ to help you better understand.\n",
        "\n",
        "### **Disclaimer**\n",
        "- Outputs may be inaccurate, untruthful, and otherwise misleading.\n",
        "- It may produce biased content.\n",
        "- It will not cite sources.\n",
        "  \n",
        "Always use caution when interacting with LLM AI systems. Despite the large bounds in progress and capability, they are still in early versions and teams of people are working to fix short comings and mistakes each and every day. Despite how useful they can be as coding tutors, it is important to remember that their outputs should be met with a healthy amount of skepticism."
      ],
      "metadata": {
        "id": "pWRCNtZYaegw"
      }
    },
    {
      "cell_type": "markdown",
      "metadata": {
        "id": "RFPDmdp-H7Jv"
      },
      "source": [
        "## **Data**\n",
        "We will be using files from the [Portal Project Teaching Database](https://figshare.com/articles/Portal_Project_Teaching_Database/1314459). This section will use the **'surveys.csv'** file, stored as a **'.csv'** and can be downloaded here: https://ndownloader.figshare.com/files/2292172<br>\n",
        "We are studying the species and weight of animals caught in sites in our study area.<br>\n",
        "Each row holds information for a single animal, and the columns represent:\n",
        "\n",
        "| **Column**      | **Description**               |\n",
        "|:----------------|:------------------------------|\n",
        "| record_id       | Unique id for the observation |\n",
        "| month           | month of observation          |\n",
        "| day             | day of observation            |\n",
        "| year            | year of observation           |\n",
        "| plot_id         | ID of a particular site       |\n",
        "| species_id      | 2-letter code for a species   |\n",
        "| sex             | sex of animal (“M”, “F”)      |\n",
        "| hindfoot_length | length of the hindfoot in mm  |\n",
        "| weight          | weight of the animal in grams |"
      ]
    },
    {
      "cell_type": "code",
      "source": [
        "# Run this cell, if you're on Colab to download the 'data' file\n",
        "!wget https://raw.githubusercontent.com/The-CEAS-Library/Data_Manipulation_with_Python/master/data/surveys.csv"
      ],
      "metadata": {
        "id": "M76hCSbSIAE4"
      },
      "execution_count": null,
      "outputs": []
    },
    {
      "cell_type": "code",
      "execution_count": null,
      "metadata": {
        "id": "Mq6Wvh6qH7Jw"
      },
      "outputs": [],
      "source": [
        "import pandas as pd\n",
        "surveys = pd.read_csv(\"surveys.csv\")\n",
        "surveys_complete=surveys.dropna().reset_index()\n",
        "surveys_complete.head(5)"
      ]
    },
    {
      "cell_type": "markdown",
      "metadata": {
        "id": "gkln7h-HH7Jx"
      },
      "source": [
        "## **Matplotlib Library**\n",
        "* **Matplotlib** is a Python library used to create high-quality graphics.\n",
        "* It supports a wide range of graphics formats including **PNG**, **PostScript**, **EPS**, **PDF** and **SVG**.\n",
        "* **Matplotlib** has a Matlab like interface\n",
        "* **Matplotlib** is the actual engine behind the plotting and visualization capabilities of both **Pandas** library used in Python IV workshop and **Seaborn** library to be explored in this workshop\n",
        "\n",
        "### **🍆Plotting in Matplotlib**\n",
        "* Two interfaces for plotting using **matplotlib** - State-based (like MATLAB) and Object-oriented.\n",
        "* State-based interface directly uses the functions/methods in **pyplot** module.\n",
        "* Object-oriented interface creates two objects, **`axes`** and **`figure`**, and makes use of the **`pyplot`** module.\n",
        "\n",
        "---\n",
        "Did you notice the first vegetable emoji - the eggplant? Here is an example of how to use the sample prompt given above:\n",
        "\n",
        "`You are going to take on the role of an excellent python coding tutor. I'm a beginner learning to program in python. In simple terms, please give me an overview and explanation of the following concept: Plotting in Matplotlib`\n"
      ]
    },
    {
      "cell_type": "markdown",
      "metadata": {
        "id": "biBGkeYDH7Jy"
      },
      "source": [
        "### **Import the  Matplotlib's 'pyplot' module**\n",
        "First, import the pyplot module"
      ]
    },
    {
      "cell_type": "code",
      "execution_count": null,
      "metadata": {
        "id": "Dd35qyxlH7Jy"
      },
      "outputs": [],
      "source": [
        "import matplotlib.pyplot as plt"
      ]
    },
    {
      "cell_type": "markdown",
      "metadata": {
        "id": "OwDtzwQSH7Jz"
      },
      "source": [
        "### Using 'pyplot'"
      ]
    },
    {
      "cell_type": "code",
      "execution_count": null,
      "metadata": {
        "id": "Ne47X9N3H7Jz"
      },
      "outputs": [],
      "source": [
        "plt.scatter(surveys_complete[\"hindfoot_length\"],surveys_complete[\"weight\"])\n",
        "plt.show()"
      ]
    },
    {
      "cell_type": "markdown",
      "metadata": {
        "id": "fVuwlI3BH7J0"
      },
      "source": [
        "* Same figure but **NO** axis label\n",
        "* Need to use **pyplot**'s **ylabel** and **xlabel** to set the axis labels.\n",
        "* **Matplotlib** is a low-level library which offers lots of freedom at the cost of having to write more code.\n",
        "* It can be overwhelming, so a useful strategy is to create the plot in **Pandas**, **Seaborn**, or **plotnine**, and then use matplotlib for the rest."
      ]
    },
    {
      "cell_type": "markdown",
      "metadata": {
        "id": "fIMhtSYXH7J1"
      },
      "source": [
        "**<h5><center>Note</center></h5>**\n",
        "\n",
        "* **plt.show( )** function or command allows you to visualize plots when working at the command line, with a script, or at the IPython interpreter.\n",
        "* **Jupyter Notebook** makes many aspects of data analysis and visualization much simpler. Adding **plt.show( )** when working on Jupyter Notebook is optional.\n",
        "* Adding **plt.show( )** after the creation of the plot will enable for those who aren’t using a Jupyter notebook."
      ]
    },
    {
      "cell_type": "markdown",
      "metadata": {
        "id": "PZERNu4xH7J1"
      },
      "source": [
        "### **🌽Pyplot subplots function (Object-oriented)**\n",
        "* Used to create layouts of subplots (two or more plots in one figure)\n",
        "* It creates a figure and an axes object\n",
        "\n",
        "*Syntax*:<br>\n",
        "**`fig, ax = plt.subplots (  nrows , ncols  )`**<br>\n",
        "*Note*:\n",
        "* **`nrows`**, **`ncols`** are optional integers, Default is **1**\n",
        "* **Returns: `fig` - 🌶️A Figure object**<br>\n",
        "$\\;\\;\\;\\;\\;\\;\\;\\;\\;\\;\\;\\;$**`ax ` - 🫑An `axes.Axes` object or array of Axes objects**<br>\n",
        "\n",
        "**You can set some axis properties**\n",
        "\n",
        "*Syntax*:<br>\n",
        "**`ax.set_title ( title_label,  fontdict,  loc  )`**<br>\n",
        "**`ax.set_xlabel ( xlabel )`**<br>\n",
        "**`ax.set_ylabel ( ylabel )`**<br>\n",
        "\n",
        "*Note*:\n",
        "* **`title_label`** is a string used for the title. **NOT** optional.\n",
        "* **`fontdict`** is an optional dictionary controlling the appearance of the title text. Default is **`None`**\n",
        "* **`loc`** is an optional string to align the title (**'center'**, **'left'**, **'right'**). Default is **'center'**\n",
        "* **`xlabel`** and **`ylabel`** are string labels for **'x'** and **'y'** axes<br><br>\n",
        "\n",
        "**You can set some figure properties**\n",
        "\n",
        "*Syntax*:<br>\n",
        "**`fig.suptitle ( title , fontsize  )`**<br>\n",
        "\n",
        "*Note*:\n",
        "* **`title`** is a string for the title of the figure.\n",
        "* **`fontsize`** is an optional fontsize for the text\n",
        "\n",
        "*Usage*:"
      ]
    },
    {
      "cell_type": "code",
      "execution_count": null,
      "metadata": {
        "id": "sO8nFFwtH7J1"
      },
      "outputs": [],
      "source": [
        "fig, ax = plt.subplots()\n",
        "print(type(fig))\n",
        "print(type(ax))\n",
        "ax.set_title('Trial sub-plot title')\n",
        "ax.set_xlabel('Trial x axis title')\n",
        "ax.set_ylabel('Trial y axis title')\n",
        "fig.suptitle('Trial  Figure  title', fontsize = 15)\n",
        "plt.show()"
      ]
    },
    {
      "cell_type": "code",
      "execution_count": null,
      "metadata": {
        "id": "JwH3eNDaH7J2"
      },
      "outputs": [],
      "source": [
        "fig, ax = plt.subplots(1,2)\n",
        "# Subplot 1 properties\n",
        "ax[0].set_xlabel('Trial x axis title')\n",
        "ax[0].set_ylabel('Trial y axis title')\n",
        "\n",
        "# Subplot 2 properties\n",
        "ax[1].set_xlabel('Trial x axis title')\n",
        "ax[1].set_ylabel('Trial y axis title')\n",
        "\n",
        "fig.suptitle('Trial  Figure  title', fontsize = 15)\n",
        "plt.tight_layout()\n",
        "plt.show()"
      ]
    },
    {
      "cell_type": "code",
      "execution_count": null,
      "metadata": {
        "id": "dDwxF1zEH7J2"
      },
      "outputs": [],
      "source": [
        "fig, ax = plt.subplots(2,2)\n",
        "# Subplot 1 properties\n",
        "ax[0,0].set_xlabel('Trial x axis title')\n",
        "ax[0,0].set_ylabel('Trial y axis title')\n",
        "\n",
        "# Subplot 2 properties\n",
        "ax[1,1].set_xlabel('Trial x axis title')\n",
        "ax[1,1].set_ylabel('Trial y axis title')\n",
        "\n",
        "fig.suptitle('Trial  Figure  title', fontsize = 15)\n",
        "plt.tight_layout()\n",
        "plt.show()"
      ]
    },
    {
      "cell_type": "markdown",
      "metadata": {
        "id": "N6BHUOCXH7J3"
      },
      "source": [
        "### **🍄Add diagrams using 'ax' object methods**\n",
        "* Add diagrams by using an apprioprate plot type or a visualization method for the **ax** object\n",
        "\n",
        "*Syntax*:<br>\n",
        "**`axes_object.visual_method( )`**\n",
        "\n",
        "*Note*:\n",
        "* The visual method can be **plot** (for line charts), **scatter** (for scatter plot), **hist** (for histograms), **bar** (for bar chart), etc.\n",
        "\n",
        "*Usage*:"
      ]
    },
    {
      "cell_type": "code",
      "execution_count": null,
      "metadata": {
        "id": "-0X1ZXyBH7J3"
      },
      "outputs": [],
      "source": [
        "import numpy as np\n",
        "\n",
        "#trigonometric data to display\n",
        "x = np.linspace(0, 4 * np.pi, 400)\n",
        "y1 = np.sin(x)\n",
        "y2 = np.cos(x)\n",
        "\n",
        "fig, ax = plt.subplots(1, 2, figsize = (10,5))\n",
        "# Subplot 1 properties\n",
        "ax[0].plot(x,y1,'b')\n",
        "ax[0].set_xlabel('x')\n",
        "ax[0].set_ylabel('y')\n",
        "ax[0].set_title('sin(x)')\n",
        "\n",
        "# Subplot 2 properties\n",
        "ax[1].plot(x,y2,'r')\n",
        "ax[1].set_xlabel('x')\n",
        "ax[1].set_ylabel('y')\n",
        "ax[1].set_title('cos(x)')\n",
        "\n",
        "fig.suptitle('Trigonometric Functions', fontsize = 15)\n",
        "plt.tight_layout()\n",
        "plt.show()"
      ]
    },
    {
      "cell_type": "markdown",
      "metadata": {
        "id": "yP-xRTHZH7J3"
      },
      "source": [
        "### **🥒Saving the figure**\n",
        "* Use the **savefig** method of the Figure object\n",
        "\n",
        "*Syntax*:<br>\n",
        "**`Figure_object.savefig ( file_path_name )`**\n",
        "\n",
        "*Note*:\n",
        "* **`file_path_name`** is a string for the file name with a possible path\n",
        "\n",
        "*Usage*:"
      ]
    },
    {
      "cell_type": "code",
      "execution_count": null,
      "metadata": {
        "scrolled": false,
        "id": "y06WLHQfH7J4"
      },
      "outputs": [],
      "source": [
        "fig.savefig('trial.png')"
      ]
    },
    {
      "cell_type": "markdown",
      "metadata": {
        "id": "yLnUf5nAH7J4"
      },
      "source": [
        "### **🥬Matplotlib Pyplot for Scatter Plot**\n",
        "* Use the **`scatter`** method\n",
        "\n",
        "*Syntax*:<br>\n",
        "**`axes_object.scatter( x , y , [ color ] )`**\n",
        "\n",
        "*Note*:\n",
        "* **x** and **y** are the data positions - array-like, of shape (n, ). They have to be of the same length.\n",
        "* **color** is an optional sequence for the color\n",
        "\n",
        "*Usage*:\n",
        "#### Scatter plot of the hindfoot_length against the weight"
      ]
    },
    {
      "cell_type": "code",
      "execution_count": null,
      "metadata": {
        "id": "QV5TFG0sH7J4"
      },
      "outputs": [],
      "source": [
        "fig, ax = plt.subplots()\n",
        "\n",
        "# scatter the hindfoot_length against the weight\n",
        "ax.scatter(surveys_complete[\"hindfoot_length\"],surveys_complete[\"weight\"],c='blue')\n",
        "\n",
        "# set a title and labels\n",
        "ax.set_title('hindfoot_length VS weight')\n",
        "ax.set_xlabel('hindfoot_length')\n",
        "ax.set_ylabel('weight')\n",
        "\n",
        "# add text to the figure\n",
        "ax.text(33, 280, 'Max_Weight', fontsize = 12)\n",
        "\n",
        "# add annotations to the figure\n",
        "ax.annotate('Maximum_Weight', xy = (33,280), xytext = (45,200), arrowprops=dict(facecolor='black', shrink = 1), fontsize = 12)\n",
        "\n",
        "plt.show()"
      ]
    },
    {
      "cell_type": "markdown",
      "metadata": {
        "id": "PP_wghvKH7J5"
      },
      "source": [
        "### **🥦Matplotlib Pyplot for Line Chart**\n",
        "* Use the **plot** method\n",
        "\n",
        "*Syntax*:<br>\n",
        "**axes_object.plot( x , y , [ color ] )**\n",
        "\n",
        "*Note*:\n",
        "* **x** and **y** are the data positions - array_like, of shape (n, ). They have to be of the same length.\n",
        "* **color** is an optional sequence for the color\n",
        "\n",
        "*Usage*:\n",
        "#### Line plot of each year and count of the number of animals found"
      ]
    },
    {
      "cell_type": "code",
      "execution_count": null,
      "metadata": {
        "id": "gZITdKc_H7J5"
      },
      "outputs": [],
      "source": [
        "year_agg = surveys_complete.groupby('year')['record_id'].count()\n",
        "fig, ax = plt.subplots()\n",
        "\n",
        "# plot the year against count\n",
        "ax.plot(year_agg)\n",
        "\n",
        "# set a title and labels\n",
        "ax.set_title('Number of animals per year')\n",
        "ax.set_xlabel('year')\n",
        "ax.set_ylabel('Count')\n",
        "ax.grid()\n",
        "plt.show()"
      ]
    },
    {
      "cell_type": "markdown",
      "metadata": {
        "id": "iwUPNiUPH7J6"
      },
      "source": [
        "### **🥔Matplotlib Pyplot for Histogram**\n",
        "* Use the **`hist`** method\n",
        "\n",
        "*Syntax*:<br>\n",
        "**`axes_object.hist ( x, [ bins ] , [ color ] )`**\n",
        "\n",
        "*Note*:\n",
        "* **x** is an (n,) array or sequence of (n,) arrays which are not required to be of the same length.\n",
        "\n",
        "*Usage*:\n",
        "#### Frequency of years"
      ]
    },
    {
      "cell_type": "code",
      "execution_count": null,
      "metadata": {
        "id": "UM3Aqmx6H7J6"
      },
      "outputs": [],
      "source": [
        "fig, ax = plt.subplots()\n",
        "\n",
        "# histogram of years\n",
        "ax.hist(surveys_complete['year'])\n",
        "\n",
        "# set a title and labels\n",
        "ax.set_title('Number of animals per year')\n",
        "ax.set_xlabel('year')\n",
        "ax.set_ylabel('Frequency')\n",
        "plt.show()"
      ]
    },
    {
      "cell_type": "markdown",
      "metadata": {
        "id": "5OGcim8QH7J6"
      },
      "source": [
        "### **🧄Matplotlib Pyplot for Bar Chart**\n",
        "* Use the **`bar`** method\n",
        "\n",
        "*Syntax*:<br>\n",
        "**`axes_object.bar ( x, height, [ width ] , [ align ] , [ color ] )`**\n",
        "\n",
        "*Note*:\n",
        "* **`x`** is a sequence of scalars. The x coordinates of the bars.\n",
        "* **`height`** is a scalar or sequence of scalars for the height(s) of the bars.\n",
        "* **`width`** is scalar or array-like object for the width(s) of the bars. OPTIONAL. Default: 0.8.\n",
        "* **`align`** is for the alignment of the bars to the x coordinates ('center', 'edge'). . OPTIONAL. Default: 'center'\n",
        "\n",
        "*Usage*:\n",
        "#### Bar Chart of each year and count of the number of animals found\n",
        "Bar charts need two sequences, one for the x axis and the other for the y axis, unlike histograms which do the aggregation on just one sequence."
      ]
    },
    {
      "cell_type": "code",
      "execution_count": null,
      "metadata": {
        "id": "cnhSw5y8H7J6"
      },
      "outputs": [],
      "source": [
        "year_agg = surveys_complete.groupby('year')['record_id'].count()\n",
        "fig, ax = plt.subplots()\n",
        "\n",
        "# bar chart of the each year's count\n",
        "ax.bar(year_agg.index,year_agg.values)\n",
        "\n",
        "# set a title and labels\n",
        "ax.set_title('Number of animals per year')\n",
        "ax.set_xlabel('year')\n",
        "ax.set_ylabel('count')\n",
        "plt.show()"
      ]
    },
    {
      "cell_type": "markdown",
      "metadata": {
        "id": "NwHDf6GpH7J7"
      },
      "source": [
        "## **Exercise 1**\n",
        "Create bar charts using **Pyplot** to answer th following questions\n",
        "1. **Which location has the most animals?**<br>\n",
        "   *Hints*:<br>\n",
        "   Create a plot of the number of animals per site (**plot_id**)<br>\n",
        "   Group by **plot_id** and count the number of **record_id**s<br><br>\n",
        "\n",
        "2. **Which species has the highest average weights?**<br>\n",
        "   *Hints*:<br>\n",
        "   Create a plot of average weight per species<br>\n",
        "   Group by **species_id** and find the average (**mean**) of the **weight**s"
      ]
    },
    {
      "cell_type": "code",
      "execution_count": null,
      "metadata": {
        "id": "lUqFu0tzH7J7"
      },
      "outputs": [],
      "source": []
    },
    {
      "cell_type": "code",
      "execution_count": null,
      "metadata": {
        "id": "JJVA37WjH7J7"
      },
      "outputs": [],
      "source": []
    },
    {
      "cell_type": "markdown",
      "source": [
        "## **Pandas for Visualization**\n",
        "* **Pandas** library provides data structures, such as dataframes and series for working with tabular data and data analysis.\n",
        "* **Pandas** provides higher level visualization tools built on **Matplotlib** makes it really easy to create plots out of a pandas dataframe and series. Since it has a higher level API than **Matplotlib**, we need less code for the same results.\n",
        "* **Pandas** for Data Analysis was introduced into details in the Python IV workshop while a quick intoduction to **Pandas** for data visualization was done in the same workshop"
      ],
      "metadata": {
        "id": "NXXuO9KuZHR2"
      }
    },
    {
      "cell_type": "markdown",
      "metadata": {
        "id": "xFa-_SsQH7J7"
      },
      "source": [
        "### **Pandas Plot method**\n",
        "There two syntaxes for using the Pandas **plot** method\n",
        "\n",
        "* Using the plot kind as a string input to the method<br>\n",
        "* *Syntax 1*:<br>\n",
        "  **dataFrame_object.plot ( [ x ] , [ y ] , [ plot_kind ] , [ ax ] , [ subplots ] , [ layout ] , [ sharex ] , [ sharey ] , [ title ] , [ grid ] , [ legend ] ,  [ color ] )** <br>\n",
        "\n",
        "* Using the corresponding method of the plot kind on the **DataFrame_object.plot** accessor<br>\n",
        "Each plot kind has a corresponding method on the **DataFrame_object.plot** accessor<br>\n",
        "* *Syntax 2*:<br>\n",
        " **dataFrame_object.plot.plot_kind ( [ x ] , [ y ] , [ ax ] , [ subplots ] , [ layout ] , [ title ] , [ grid ] , [ legend ] ,  [ color ] )**\n",
        "\n",
        "*Note*:\n",
        "* **'x'** is OPTIONAL string label or integer index representing the column in the DataFrame object to be used on the **'x'** axis. Default is **None**. If **None** it will use the DataFrame indices.\n",
        "* **'y'** are OPTIONAL string label or integer index or a list of them representing the column name in the DataFrame object to be plotted on the **'y'** axis. If a list is used, a plot for each one will be created. Default is **None**. If **None** it will use the list of the remaining DataFrame numeric columns as **'y'**\n",
        "* If no x and y is specified, it will use the DataFrame indices as **'x'** and use the list of the remaining DataFrame numeric columns as **'y'**\n",
        "* If only one column is specified it will be used as x and the list of the remaining DataFrame numeric columns as **y**\n",
        "* **plot_kind** can be specified as\n",
        "  * line : line plot (Default in the case of Syntax 1)\n",
        "  * scatter : scatter plot\n",
        "  * bar : vertical bar plot\n",
        "  * barh : horizontal bar plot\n",
        "  * hist : histogram\n",
        "  * pie : pie plot\n",
        "  * box : boxplot\n",
        "  * kde : Kernel Density Estimation plot\n",
        "  * density : same as ‘kde’\n",
        "  * area : area plot\n",
        "  * hexbin : hexbin plot\n",
        "* **ax** is a matplotlib axes object. Default is **None**\n",
        "* **subplots** is boolean that represents making a separate subplots for each column. Default is **False**\n",
        "* **layout** is tuple for the layout of subplots (rows, columns). OPTIONAL.\n",
        "* **title** is string or list of Title(s) to use for the plot(s). If a string is passed, print the string at the top of the figure. If a list is passed and subplots is True, print each item in the list above the corresponding subplot.\n",
        "* **grid** is boolean for axis grid lines. Default is **None** for matlab style default\n",
        "* **legend** is False/True/'reverse' to place legend on axis subplots\n",
        "\n",
        "\n",
        "\n"
      ]
    },
    {
      "cell_type": "markdown",
      "source": [
        "### **🧅Scatter plot with Pandas Plot method**\n",
        "* **'x'** and **'y'** are **NOT OPTIONAL** and **'y'** **CANNOT** be a list\n",
        "\n",
        "#### Scatter plot of the hindfoot_length against the weight"
      ],
      "metadata": {
        "id": "uC8p0cYuZCPf"
      }
    },
    {
      "cell_type": "code",
      "execution_count": null,
      "metadata": {
        "id": "qvmMWS1wH7J7"
      },
      "outputs": [],
      "source": [
        "surveys_complete.plot('hindfoot_length','weight',kind='scatter',title='hindfoot_length VS weight')\n",
        "plt.show()"
      ]
    },
    {
      "cell_type": "markdown",
      "metadata": {
        "id": "_VDke7cgH7J8"
      },
      "source": [
        "### **🥕Line plots with Pandas Plot method**\n",
        "\n",
        "Line plot of each year and count of the number of animals found"
      ]
    },
    {
      "cell_type": "code",
      "execution_count": null,
      "metadata": {
        "id": "RVZJgaBvH7J8"
      },
      "outputs": [],
      "source": [
        "year_agg = surveys_complete.groupby('year')['record_id'].count()\n",
        "year_agg.plot()\n",
        "plt.grid()\n",
        "plt.show()"
      ]
    },
    {
      "cell_type": "markdown",
      "metadata": {
        "id": "rCO2YhRSH7J8"
      },
      "source": [
        "Line plot of average weights and hindfoot lengths per year on same plot"
      ]
    },
    {
      "cell_type": "code",
      "execution_count": null,
      "metadata": {
        "id": "ROEVbtKMH7J8"
      },
      "outputs": [],
      "source": [
        "species_agg = surveys_complete.groupby('year')[['weight','hindfoot_length']].mean()\n",
        "species_agg.plot()\n",
        "plt.grid()\n",
        "plt.show()"
      ]
    },
    {
      "cell_type": "markdown",
      "metadata": {
        "id": "FbVQkXK5H7J8"
      },
      "source": [
        "Line charts of average weights and hindfoot lengths per year on two subplots.\n",
        "You can play with the layout by specifying layout parameter"
      ]
    },
    {
      "cell_type": "code",
      "execution_count": null,
      "metadata": {
        "id": "8nvnBCK0H7J8"
      },
      "outputs": [],
      "source": [
        "species_agg.plot(subplots=True)\n",
        "plt.tight_layout()\n",
        "plt.show()"
      ]
    },
    {
      "cell_type": "markdown",
      "metadata": {
        "id": "hezXvrzTH7J9"
      },
      "source": [
        "### **🌰Histograms with Pandas Plot method**\n",
        "Frequency of years"
      ]
    },
    {
      "cell_type": "code",
      "execution_count": null,
      "metadata": {
        "id": "DC8hABXxH7J9"
      },
      "outputs": [],
      "source": [
        "surveys_complete['year'].plot(kind='hist',title='Frequency of animals per year')\n",
        "plt.show()"
      ]
    },
    {
      "cell_type": "markdown",
      "metadata": {
        "id": "m7Hh0shFH7J9"
      },
      "source": [
        "Frequency of weights and hindfoot lengths on subplots"
      ]
    },
    {
      "cell_type": "code",
      "execution_count": null,
      "metadata": {
        "id": "v49qLB_lH7J9"
      },
      "outputs": [],
      "source": [
        "fig,ax=plt.subplots(2,1)\n",
        "ax[0].set_xlim(0,surveys_complete.weight.max())\n",
        "ax[1].set_xlim(0,surveys_complete.hindfoot_length.max())\n",
        "surveys_complete[['weight','hindfoot_length']].plot.hist(subplots=True,sharex=False,ax=ax,bins=40)\n",
        "plt.tight_layout()\n",
        "plt.show()"
      ]
    },
    {
      "cell_type": "markdown",
      "metadata": {
        "id": "uCwKtD4kH7J9"
      },
      "source": [
        "### **🥜Bar Chart with Pandas Plot method**\n",
        "Bar Chart of each species and count of the number of animals"
      ]
    },
    {
      "cell_type": "code",
      "execution_count": null,
      "metadata": {
        "id": "xEz1O3O3H7J9"
      },
      "outputs": [],
      "source": [
        "#spec_count = surveys_complete.groupby('species_id')['record_id'].count()\n",
        "surveys_complete.groupby('species_id')['record_id'].count().plot(kind='bar',title='Species count')\n",
        "plt.show()"
      ]
    },
    {
      "cell_type": "markdown",
      "metadata": {
        "id": "rU9HQA3gH7J9"
      },
      "source": [
        "Bar Chart of average wieight and max hindfoot length of each species in a single plot"
      ]
    },
    {
      "cell_type": "code",
      "execution_count": null,
      "metadata": {
        "id": "id6fV3JrH7J-"
      },
      "outputs": [],
      "source": [
        "agg = surveys_complete.groupby('species_id').agg({'weight':'mean','hindfoot_length':'max'})\n",
        "agg.plot(kind='bar',title='Mean Weight and Max Hindfoot Length of Each Species')\n",
        "plt.show()"
      ]
    },
    {
      "cell_type": "markdown",
      "metadata": {
        "id": "QxQ2qa0EH7J-"
      },
      "source": [
        "Bar Chart of count, average weight and max hindfoot length of each species in subplots"
      ]
    },
    {
      "cell_type": "code",
      "execution_count": null,
      "metadata": {
        "id": "bsI-Sp44H7J-"
      },
      "outputs": [],
      "source": [
        "agg = surveys_complete.groupby('species_id').agg({'record_id':'count','weight':'mean','hindfoot_length':'max'})\n",
        "agg.plot(kind='bar',title='Count, Weight mean and Max Hindfoot Length of each species',subplots=True)\n",
        "plt.tight_layout()\n",
        "plt.show()"
      ]
    },
    {
      "cell_type": "markdown",
      "metadata": {
        "id": "cYxo8IZuH7J-"
      },
      "source": [
        "**<h5><center>Note</center></h5>**\n",
        "\n",
        "Use **plt.xlabel( )** and **plt.ylabel( )** function  or command (plt stands for matplotlib.pyplot) to set **'x'** and **'y'** axis labels in cases where they are not set automatically\n",
        "\n",
        "*Syntax*:<br>\n",
        "**plt.xlabel ( xlabel )** <br>\n",
        "**plt.ylabel ( ylabel )**\n",
        "\n",
        "*Note*:\n",
        "* **xlabel** and **ylabel** are strings for the **'x'** and **'y'** axis labels\n",
        "\n",
        "*Usage*:"
      ]
    },
    {
      "cell_type": "code",
      "execution_count": null,
      "metadata": {
        "id": "vmGXo5SbH7J-"
      },
      "outputs": [],
      "source": [
        "#spec_count = surveys_complete.groupby('species_id')['record_id'].count()\n",
        "surveys_complete.groupby('species_id')['record_id'].count().plot(kind='bar',title='Species count')\n",
        "plt.ylabel('count')\n",
        "plt.show()"
      ]
    },
    {
      "cell_type": "markdown",
      "metadata": {
        "id": "c8k7_YErH7J-"
      },
      "source": [
        "## **Exercise 2**\n",
        "Redo Exercise 1 with **Pandas**<br>\n",
        "Create bar charts using **Pandas** to answer th following questions\n",
        "1. **Which location has the most animals?**<br>\n",
        "   *Hints*:<br>\n",
        "   Create a plot of the number of animals per site (**plot_id**)<br>\n",
        "   Group by **plot_id** and count the number of **record_id**s<br><br>\n",
        "\n",
        "2. **Which species has the highest average weights?**<br>\n",
        "   *Hints*:<br>\n",
        "   Create a plot of average weight per species<br>\n",
        "   Group by **species_id** and find the average (**mean**) of the **weight**s"
      ]
    },
    {
      "cell_type": "code",
      "execution_count": null,
      "metadata": {
        "id": "wJ_8aIaTH7J_"
      },
      "outputs": [],
      "source": []
    },
    {
      "cell_type": "code",
      "execution_count": null,
      "metadata": {
        "id": "7IBcZmdTH7J_"
      },
      "outputs": [],
      "source": []
    },
    {
      "cell_type": "markdown",
      "metadata": {
        "id": "d78vItswH7J_"
      },
      "source": [
        "## **Simple Visualization with Seaborn Library**\n",
        "* **Seaborn** is a high-level interface library for statistical data visualization  based on **matplotlib**\n",
        "\n",
        "---\n",
        "For this part, the prompt fed to GPT will be changed to fit the targeted library used for visualization:\n",
        "`You are going to take on the role of an excellent python coding tutor. I'm a beginner learning to program in python. In simple terms, please give me an overview and explanation of the following visualization concept with Seaborn library:__`\n"
      ]
    },
    {
      "cell_type": "code",
      "execution_count": null,
      "metadata": {
        "id": "yN5Zqh-sH7J_"
      },
      "outputs": [],
      "source": [
        "import seaborn as sns"
      ]
    },
    {
      "cell_type": "markdown",
      "metadata": {
        "id": "dt44_kxMH7J_"
      },
      "source": [
        "### **🫘Scatter plot**\n",
        "* The .**scatterplot** function is used\n",
        "\n",
        "*Syntax*:<br>\n",
        "**sns.scatterplot ( x, y , data , [ hue ] , [ color ] )**\n",
        "\n",
        "*Note*:\n",
        "* **'x'** is string label for the column for **'x'** axis.\n",
        "* **'y'** is string label for the column for **'y'** axis.\n",
        "* **data** is the data frame object for the data source.\n",
        "* **hue** is string label for column for highlight the points by class by color\n",
        "* **color** is string for color\n",
        "\n",
        "*Usage:* <br>\n",
        "Scatter plot of the hindfoot_length against the weight"
      ]
    },
    {
      "cell_type": "code",
      "execution_count": null,
      "metadata": {
        "id": "BPew1rxfH7J_"
      },
      "outputs": [],
      "source": [
        "sns.scatterplot(x='hindfoot_length',y='weight',data=surveys_complete)\n",
        "plt.show()"
      ]
    },
    {
      "cell_type": "markdown",
      "metadata": {
        "id": "rUr7vN9vH7J_"
      },
      "source": [
        "Scatter plots with coloring to classify each data-point by species ID"
      ]
    },
    {
      "cell_type": "code",
      "execution_count": null,
      "metadata": {
        "id": "eWZIiAc6H7J_"
      },
      "outputs": [],
      "source": [
        "df = surveys_complete.sample(1000)\n",
        "sns.scatterplot(x='hindfoot_length',y='weight',data=df,hue='species_id')\n",
        "plt.legend(bbox_to_anchor=(1.05, 1))\n",
        "plt.show()"
      ]
    },
    {
      "cell_type": "markdown",
      "metadata": {
        "id": "U-avAsKtH7KA"
      },
      "source": [
        "### **🌾Line chart**\n",
        "* To create a line-chart the **lineplot** function\n",
        "* The only required argument is the **data**\n",
        "\n",
        "*Usage:* <br>\n",
        "Line plot of each year and count of the number of animals found"
      ]
    },
    {
      "cell_type": "code",
      "execution_count": null,
      "metadata": {
        "id": "Ib9iU1RgH7KA"
      },
      "outputs": [],
      "source": [
        "year_agg = surveys_complete.groupby('year')['record_id'].count()\n",
        "sns.lineplot(data=year_agg)\n",
        "plt.grid()\n",
        "plt.show()"
      ]
    },
    {
      "cell_type": "markdown",
      "metadata": {
        "id": "G99_sfARH7KA"
      },
      "source": [
        "Line charts of average weights and hindfoot lengths per year on same plot"
      ]
    },
    {
      "cell_type": "code",
      "execution_count": null,
      "metadata": {
        "id": "6cTXmrDYH7KA"
      },
      "outputs": [],
      "source": [
        "species_agg = surveys_complete.groupby('year')[['weight','hindfoot_length']].mean()\n",
        "sns.lineplot(data=species_agg)\n",
        "plt.grid()\n",
        "plt.show()"
      ]
    },
    {
      "cell_type": "markdown",
      "metadata": {
        "id": "4QI6UHdGH7KA"
      },
      "source": [
        "### **🌻Histogram**\n",
        "* To create a histogram, use the **displot** function\n",
        "\n",
        "*Syntax*:<br>\n",
        "**sns.displot ( data_series_object , [ bins ] , [ kde ] , [ color ] )**\n",
        "\n",
        "*Note*:\n",
        "* **data_series_object** 1-dim data series to be plotted. Can be a specific column selection from a data frame object.\n",
        "* **bins** is number of bins.\n",
        "* **kde** is boolean for plotting a gaussian kernel density estimate inside the graph.Default is **True**\n",
        "* **color** is string for color\n",
        "\n",
        "*Usage:* <br>\n",
        "Frequency of years"
      ]
    },
    {
      "cell_type": "code",
      "execution_count": null,
      "metadata": {
        "id": "9gcgS0brH7KA"
      },
      "outputs": [],
      "source": [
        "sns.displot(surveys_complete['year'], bins = 10, kde = False)\n",
        "plt.show()"
      ]
    },
    {
      "cell_type": "markdown",
      "metadata": {
        "id": "aPQKykoiH7KB"
      },
      "source": [
        "### **🌱Bar chart**\n",
        "* To create a bar charts, use the **barplot** function\n",
        "* Unlike **Matplotlib** and **Panda**, **Seaborn** will do the aggregation on the dataset for Bar charts\n",
        "\n",
        "*Syntax*:<br>\n",
        "**sns.barplot ( x , y , data, [ hue ] , [ color ] )**\n",
        "\n",
        "*Note*:\n",
        "* **'x'** is OPTIONAL string label for the column for **'x'** coordinates of the bars. Use **'x'** if you want the chart to be VERTICAL.\n",
        "* **y** is OPTIONAL string label for the column for **'Y'** coordinates of the bars. Use **'Y'** if you want the chart to be HORIZONTAL.\n",
        "* Either **'x'**or **'y'** MUST be present but both CANNOT be parsed in the same function call. Unless stated, string label for columns are defaulted to **'x'** (vertical).\n",
        "* **hue** is OPTIONAL string label for column which specifies categories to show count for.\n",
        "* **data** is the data frame object for the data source.\n",
        "* **color** is string for color\n",
        "* **errorbar**  is OPTIONAL input that displays a confidence interval for the data. Default is ('ci', 95)\n",
        "\n",
        "*Usage:* <br>\n",
        "Bar Chart of each species and the number of male and females"
      ]
    },
    {
      "cell_type": "code",
      "execution_count": null,
      "metadata": {
        "id": "ILC_cux7H7KB"
      },
      "outputs": [],
      "source": [
        "sns.barplot(x ='species_id',y = 'record_id',hue='sex',data=surveys_complete)\n",
        "plt.savefig('trial2.png')\n",
        "plt.show()"
      ]
    },
    {
      "cell_type": "markdown",
      "metadata": {
        "id": "6xfkrX14H7KB"
      },
      "source": [
        "**<h5><center>Note</center></h5>**\n",
        "\n",
        "* **plt.savefig( )** function or command (plt stands for matplotlib.pyplot) allows you to save figures not made out of **matplotlib**'s **pyplot**.\n",
        "* To save a figure, use the command **plt.savefig( )** before using **plt.show( )**\n",
        "\n",
        "*Syntax*:<br>\n",
        "**plt.savefig ( file_path_name )**\n",
        "\n",
        "*Note*:\n",
        "* **file_path_name** is a string for the file name with a possible path"
      ]
    },
    {
      "cell_type": "markdown",
      "metadata": {
        "id": "YZ5l-okjH7KB"
      },
      "source": [
        "## **Exercise 3**\n",
        "Redo Exercise 1.1 with **Seaborn**<br>\n",
        "Create bar charts using **Seaborn** to answer th following questions\n",
        "1. **Which location has the most animals?**<br>\n",
        "   *Hints*:<br>\n",
        "   Create a plot of the number of animals per site (**plot_id**)<br>\n",
        "   Group by **plot_id** and count the number of **record_id**s"
      ]
    },
    {
      "cell_type": "code",
      "execution_count": null,
      "metadata": {
        "id": "NJ4NLTxFH7KB"
      },
      "outputs": [],
      "source": []
    },
    {
      "cell_type": "markdown",
      "metadata": {
        "id": "YPw7T_2QH7KB"
      },
      "source": [
        "## Advanced and Future Topics\n",
        "* Advanced Data Visuals; Box plots, Heatmap, Faceting, Pair plots\n",
        "* More on **Seaborn** library\n",
        "* **Plotnine** library for advanced data visualization\n",
        "* Error Handling and Exceptions\n",
        "* List Comprehension\n",
        "* Rgular Expressions\n",
        "* Database Access\n",
        "* Multithreading\n",
        "\n",
        "## Resources\n",
        "* CEAS Library Python resources - http://guides.libraries.uc.edu/python\n",
        "* Online links & tutorials\n",
        " * Matplotlib user guide - https://matplotlib.org/\n",
        " * Data Carpentry - https://datacarpentry.org/python-ecology-lesson/\n",
        " * [Click on this link for more on visualization with **Seaborn**](https://www.datacamp.com/community/tutorials/seaborn-python-tutorial?utm_source=adwords_ppc&utm_campaignid=1565261270&utm_adgroupid=67750485268&utm_device=c&utm_keyword=&utm_matchtype=b&utm_network=g&utm_adpostion=1t1&utm_creative=295208661514&utm_targetid=aud-392016246653:dsa-473406580275&utm_loc_interest_ms=&utm_loc_physical_ms=9015695&gclid=EAIaIQobChMIlKHbzreQ5AIVEMNkCh3IZQFfEAAYASAAEgJzn_D_BwE)\n",
        " * Python documentation - https://www.python.org/doc/\n",
        " * Python Programming wiki book - http://en.wikibooks.org/wiki/Python_Programming\n",
        " * Python tutorials - Udemy, Code academy, etc"
      ]
    },
    {
      "cell_type": "markdown",
      "metadata": {
        "id": "tGZlThT0H7KB"
      },
      "source": [
        "\n",
        "\n",
        "\n",
        "$\\;\\;\\;\\;\\;\\;\\;\\;\\;\\;\\;\\;\\;\\;\\;\\;\\;\\;\\;\\;\\;\\;\\;\\;\\;\\;\\;\\;\\;\\;\\;\\;\\;\\;\\;\\;\\;\\;\\;\\;\\;\\;\\;\\;\\;\\;\\;\\;\\;\\;\\;\\;\\;\\;\\;\\;\\;\\;$**Thank you for attending the workshop !!**\n",
        "\n",
        "\n",
        "\n",
        "$\\;\\;\\;\\;\\;\\;\\;\\;\\;\\;\\;\\;\\;\\;\\;\\;\\;\\;\\;\\;\\;\\;\\;\\;\\;\\;\\;\\;\\;\\;\\;\\;\\;\\;\\;\\;\\;\\;\\;\\;\\;\\;\\;\\;\\;\\;$**Your kind suggestions/feedbacks are more than welcome**"
      ]
    }
  ],
  "metadata": {
    "kernelspec": {
      "display_name": "Python 3",
      "language": "python",
      "name": "python3"
    },
    "language_info": {
      "codemirror_mode": {
        "name": "ipython",
        "version": 3
      },
      "file_extension": ".py",
      "mimetype": "text/x-python",
      "name": "python",
      "nbconvert_exporter": "python",
      "pygments_lexer": "ipython3",
      "version": "3.7.5"
    },
    "colab": {
      "provenance": []
    }
  },
  "nbformat": 4,
  "nbformat_minor": 0
}