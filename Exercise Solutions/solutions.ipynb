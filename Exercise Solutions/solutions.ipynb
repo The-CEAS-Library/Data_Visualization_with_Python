{
  "cells": [
    {
      "cell_type": "code",
      "execution_count": 1,
      "metadata": {
        "id": "ttR0m3Q6H0SH"
      },
      "outputs": [],
      "source": [
        "import pandas as pd\n",
        "import matplotlib.pyplot as plt\n",
        "!wget https://raw.githubusercontent.com/The-CEAS-Library/Data_Manipulation_with_Python/refs/heads/master/data/surveys.csv"
      ]
    },
    {
      "cell_type": "code",
      "execution_count": 4,
      "metadata": {
        "id": "PMLNzG6-H0SJ"
      },
      "outputs": [],
      "source": [
        "surveys = pd.read_csv(\"surveys.csv\")\n",
        "surveys_complete=surveys.dropna().reset_index()"
      ]
    },
    {
      "cell_type": "markdown",
      "metadata": {
        "id": "7p3cQic1H0SK"
      },
      "source": [
        "# Exercise 1\n",
        "Create bar charts using **Pyplot** to answer th following questions\n",
        "1. **Which location has the most animals?**<br>\n",
        "   *Hints*:<br>\n",
        "   Create a plot of the number of animals per site (**plot_id**)<br>\n",
        "   Group by **plot_id** and count the number of **record_id**s<br><br>\n",
        "   \n",
        "2. **Which species has the highest average weights?**<br>\n",
        "   *Hints*:<br>\n",
        "   Create a plot of average weight per species<br>\n",
        "   Group by **species_id** and find the average (**mean**) of the **weight**s"
      ]
    },
    {
      "cell_type": "markdown",
      "metadata": {
        "id": "6R_hX36WH0SL"
      },
      "source": [
        "#### Solution 1.1\n",
        "Location with most animals"
      ]
    },
    {
      "cell_type": "code",
      "execution_count": null,
      "metadata": {
        "id": "fS5yh1ivH0SM"
      },
      "outputs": [],
      "source": [
        "plot_count = surveys_complete.groupby('plot_id')['record_id'].count()\n",
        "fig, ax = plt.subplots()\n",
        "# bar chart of  number of animals found on each plot\n",
        "ax.bar(plot_count.index,plot_count.values)\n",
        "# set a title and labels\n",
        "ax.set_title('Number of animals per plot')\n",
        "ax.set_xlabel('plot_id')\n",
        "ax.set_ylabel('count')\n",
        "plt.show()"
      ]
    },
    {
      "cell_type": "markdown",
      "metadata": {
        "id": "-NGLuRgxH0SM"
      },
      "source": [
        "#### Solution 1.2\n",
        "Species with highest average weight"
      ]
    },
    {
      "cell_type": "code",
      "execution_count": null,
      "metadata": {
        "id": "jM0PDYSNH0SN"
      },
      "outputs": [],
      "source": [
        "sp_ave_wt = surveys_complete.groupby('species_id')['weight'].mean()\n",
        "fig, ax = plt.subplots()\n",
        "# bar chart of  number of animals found on each plot\n",
        "ax.bar(sp_ave_wt.index,sp_ave_wt.values)\n",
        "# set a title and labels\n",
        "ax.set_title('Average weight of species')\n",
        "ax.set_xlabel('species_id')\n",
        "ax.set_ylabel('average weight')\n",
        "plt.show()"
      ]
    },
    {
      "cell_type": "markdown",
      "metadata": {
        "id": "ITOdAV-QH0SN"
      },
      "source": [
        "# Exercise 2\n",
        "Redo Exercise 1 with **Pandas**<br>\n",
        "Create bar charts using **Pandas** to answer th following questions\n",
        "1. **Which location has the most animals?**<br>\n",
        "   *Hints*:<br>\n",
        "   Create a plot of the number of animals per site (**plot_id**)<br>\n",
        "   Group by **plot_id** and count the number of **record_id**s<br><br>\n",
        "   \n",
        "2. **Which species has the highest average weights?**<br>\n",
        "   *Hints*:<br>\n",
        "   Create a plot of average weight per species<br>\n",
        "   Group by **species_id** and find the average (**mean**) of the **weight**s\n",
        "   \n",
        "#### Solution 2.1\n",
        "Location with most animals"
      ]
    },
    {
      "cell_type": "code",
      "execution_count": null,
      "metadata": {
        "id": "StDd2B7WH0SN"
      },
      "outputs": [],
      "source": [
        "plot_count = surveys_complete.groupby('plot_id')['record_id'].count()\n",
        "plot_count.plot(kind='bar',title='Number of animals per plot')\n",
        "plt.ylabel('count')\n",
        "plt.show()"
      ]
    },
    {
      "cell_type": "markdown",
      "metadata": {
        "id": "xB9GYKrvH0SO"
      },
      "source": [
        "#### Solution 2.2\n",
        "Species with highest average weight"
      ]
    },
    {
      "cell_type": "code",
      "execution_count": null,
      "metadata": {
        "id": "33Cd8cLMH0SO"
      },
      "outputs": [],
      "source": [
        "sp_ave_wt = surveys_complete.groupby('species_id')['weight'].mean()\n",
        "sp_ave_wt.plot(kind='bar',title='Average weight of species')\n",
        "plt.ylabel('average weight')\n",
        "plt.show()"
      ]
    },
    {
      "cell_type": "markdown",
      "metadata": {
        "id": "Q0mCU2LUH0SO"
      },
      "source": [
        "# Exercise 3\n",
        "Redo Exercise 1.1 with **Seaborn**<br>\n",
        "Create bar charts using **Seaborn** to answer th following questions\n",
        "1. **Which location has the most animals?**<br>\n",
        "   *Hints*:<br>\n",
        "   Create a plot of the number of animals per site (**plot_id**)<br>\n",
        "   Group by **plot_id** and count the number of **record_id**s\n",
        "   \n",
        "#### Solution 3\n",
        "Location with most animals"
      ]
    },
    {
      "cell_type": "code",
      "execution_count": 6,
      "metadata": {
        "id": "_O6c92VCH0SO"
      },
      "outputs": [],
      "source": [
        "import seaborn as sns"
      ]
    },
    {
      "cell_type": "code",
      "source": [
        "loc_agg = surveys_complete.groupby('plot_id')['record_id'].count()\n",
        "sns.barplot(data = loc_agg)\n",
        "plt.show()"
      ],
      "metadata": {
        "id": "ELFgSCD5H9JZ"
      },
      "execution_count": null,
      "outputs": []
    }
  ],
  "metadata": {
    "kernelspec": {
      "display_name": "Python 3",
      "language": "python",
      "name": "python3"
    },
    "language_info": {
      "codemirror_mode": {
        "name": "ipython",
        "version": 3
      },
      "file_extension": ".py",
      "mimetype": "text/x-python",
      "name": "python",
      "nbconvert_exporter": "python",
      "pygments_lexer": "ipython3",
      "version": "3.6.5"
    },
    "colab": {
      "provenance": []
    }
  },
  "nbformat": 4,
  "nbformat_minor": 0
}