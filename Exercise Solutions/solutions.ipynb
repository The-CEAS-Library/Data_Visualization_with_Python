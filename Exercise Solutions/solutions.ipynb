{
  "cells": [
    {
      "cell_type": "code",
      "execution_count": null,
      "metadata": {
        "id": "ttR0m3Q6H0SH"
      },
      "outputs": [],
      "source": [
        "import pandas as pd\n",
        "import matplotlib.pyplot as plt\n",
        "!wget https://raw.githubusercontent.com/The-CEAS-Library/Data_Manipulation_with_Python/refs/heads/master/data/surveys.csv"
      ]
    },
    {
      "cell_type": "code",
      "execution_count": null,
      "metadata": {
        "id": "PMLNzG6-H0SJ"
      },
      "outputs": [],
      "source": [
        "surveys = pd.read_csv(\"surveys.csv\")\n",
        "surveys_complete=surveys.dropna().reset_index()"
      ]
    },
    {
      "cell_type": "markdown",
      "metadata": {
        "id": "7p3cQic1H0SK"
      },
      "source": [
        "# Exercise 1\n",
        "Create bar charts using **Pyplot** to answer th following questions\n",
        "1. **Which location has the most animals?**<br>\n",
        "   *Hints*:<br>\n",
        "   Create a plot of the number of animals per site (**plot_id**)<br>\n",
        "   Group by **plot_id** and count the number of **record_id**s<br><br>\n",
        "   \n",
        "2. **Which species has the highest average weights?**<br>\n",
        "   *Hints*:<br>\n",
        "   Create a plot of average weight per species<br>\n",
        "   Group by **species_id** and find the average (**mean**) of the **weight**s"
      ]
    },
    {
      "cell_type": "markdown",
      "metadata": {
        "id": "6R_hX36WH0SL"
      },
      "source": [
        "#### Solution 1.1\n",
        "Location with most animals"
      ]
    },
    {
      "cell_type": "code",
      "execution_count": null,
      "metadata": {
        "id": "fS5yh1ivH0SM"
      },
      "outputs": [],
      "source": [
        "plot_count = surveys_complete.groupby('plot_id')['record_id'].count()\n",
        "fig, ax = plt.subplots()\n",
        "# bar chart of  number of animals found on each plot\n",
        "ax.bar(plot_count.index,plot_count.values)\n",
        "# set a title and labels\n",
        "ax.set_title('Number of animals per plot')\n",
        "ax.set_xlabel('plot_id')\n",
        "ax.set_ylabel('count')\n",
        "plt.show()"
      ]
    },
    {
      "cell_type": "markdown",
      "metadata": {
        "id": "-NGLuRgxH0SM"
      },
      "source": [
        "#### Solution 1.2\n",
        "Species with highest average weight"
      ]
    },
    {
      "cell_type": "code",
      "execution_count": null,
      "metadata": {
        "id": "jM0PDYSNH0SN"
      },
      "outputs": [],
      "source": [
        "sp_ave_wt = surveys_complete.groupby('species_id')['weight'].mean()\n",
        "fig, ax = plt.subplots()\n",
        "# bar chart of  number of animals found on each plot\n",
        "ax.bar(sp_ave_wt.index,sp_ave_wt.values)\n",
        "# set a title and labels\n",
        "ax.set_title('Average weight of species')\n",
        "ax.set_xlabel('species_id')\n",
        "ax.set_ylabel('average weight')\n",
        "plt.show()"
      ]
    },
    {
      "cell_type": "markdown",
      "metadata": {
        "id": "ITOdAV-QH0SN"
      },
      "source": [
        "## **Exercise 2**\n",
        "Create bar charts using **Pandas** to answer th following questions\n",
        "1. **Create a bar chart showing the average hindfoot_length for each species. Only include species with at least 20 observations.**<br>\n",
        "  *Hints*:<br>\n",
        " Use **record_id** and **count()** method to get the counts or **value_counts()** method on the **species_id** to get counts directly\n",
        " **isin()** method to get filter the species with more than 20 observations\n",
        "\n",
        "2. **Create side-by-side bar charts comparing species distribution in the first half vs second half of each year**<br>\n",
        "  *Hints*:<br>\n",
        "  Use querying on the **month** column and create two dataframes to store first half and second half data<br>\n",
        "  Groupby **species_id** and apply count method\n",
        "\n",
        "#### Solution 2.1\n"
      ]
    },
    {
      "cell_type": "code",
      "execution_count": null,
      "metadata": {
        "id": "StDd2B7WH0SN"
      },
      "outputs": [],
      "source": [
        "species_counts = surveys_complete.groupby('species_id')['record_id'].count()\n",
        "species_filtered = list(species_counts[species_counts >= 20].index)\n",
        "\n",
        "avg_hindfoot_length = surveys_complete.groupby('species_id')['hindfoot_length'].mean()\n",
        "avg_hindfoot_length[avg_hindfoot_length.index.isin(species_filtered)].plot(kind='bar',title='Average hindfoot length of each species')\n",
        "plt.xlabel('Species ID')\n",
        "plt.ylabel('Average Hindfoot Length')\n",
        "plt.show()"
      ]
    },
    {
      "cell_type": "markdown",
      "metadata": {
        "id": "xB9GYKrvH0SO"
      },
      "source": [
        "#### Solution 2.2\n"
      ]
    },
    {
      "cell_type": "code",
      "execution_count": null,
      "metadata": {
        "id": "33Cd8cLMH0SO"
      },
      "outputs": [],
      "source": [
        "species_first_hf = surveys_complete[(surveys_complete.month <= 6)]\n",
        "species_second_hf = surveys_complete[(surveys_complete.month > 6)]\n",
        "\n",
        "fig, ax = plt.subplots(1, 2, figsize=(10, 4))\n",
        "\n",
        "species_first_hf.groupby('species_id')['record_id'].count().plot(\n",
        "    kind='bar', title='First Half (Jan-Jun)', ax=ax[0], color='green')\n",
        "species_second_hf.groupby('species_id')['record_id'].count().plot(\n",
        "    kind='bar', title='Second Half (Jul-Dec)', ax=ax[1], color='red')\n",
        "\n",
        "ax[0].set_ylabel('Count')\n",
        "ax[1].set_ylabel('Count')\n",
        "\n",
        "plt.tight_layout()\n",
        "plt.show()"
      ]
    },
    {
      "cell_type": "markdown",
      "metadata": {
        "id": "Q0mCU2LUH0SO"
      },
      "source": [
        "## **Exercise 3**\n",
        "\n",
        "Create bar charts using **Seaborn** to compare the average weight between male and female animals for the top 6 most common species.\n",
        "\n",
        "*Hints:*<br>\n",
        "  * Use **record_id** and **count()** method to get the counts of different species<br>\n",
        "  * Use **sort_values(ascend = False)** to sort the count values in descending order and store it to a list<br>\n",
        "  * Use **isin()** to filter the data and store it in a new dataframe\n",
        "  * Use this dataframe to plot the barplot\n",
        "\n",
        "\n",
        "\n",
        "   \n",
        "#### Solution 3\n",
        "Location with most animals"
      ]
    },
    {
      "cell_type": "code",
      "execution_count": null,
      "metadata": {
        "id": "_O6c92VCH0SO"
      },
      "outputs": [],
      "source": [
        "import seaborn as sns"
      ]
    },
    {
      "cell_type": "code",
      "source": [
        "top_6_species = surveys_complete.groupby('species_id')['record_id'].count()\n",
        "\n",
        "top_6 = list(top_6_species.sort_values(ascending=False).head(6).index)\n",
        "\n",
        "# Filter data for top 6 species\n",
        "top_species_data = surveys_complete[surveys_complete['species_id'].isin(top_6)]\n",
        "\n",
        "sns.barplot(x='species_id',y='weight',data=top_species_data,hue='sex')\n",
        "plt.ylabel('Average Weight')\n",
        "\n",
        "plt.show()"
      ],
      "metadata": {
        "id": "ELFgSCD5H9JZ"
      },
      "execution_count": null,
      "outputs": []
    }
  ],
  "metadata": {
    "kernelspec": {
      "display_name": "Python 3",
      "language": "python",
      "name": "python3"
    },
    "language_info": {
      "codemirror_mode": {
        "name": "ipython",
        "version": 3
      },
      "file_extension": ".py",
      "mimetype": "text/x-python",
      "name": "python",
      "nbconvert_exporter": "python",
      "pygments_lexer": "ipython3",
      "version": "3.6.5"
    },
    "colab": {
      "provenance": []
    }
  },
  "nbformat": 4,
  "nbformat_minor": 0
}